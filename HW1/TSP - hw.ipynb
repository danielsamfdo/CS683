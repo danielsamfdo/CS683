{
 "cells": [
  {
   "cell_type": "code",
   "execution_count": 3,
   "metadata": {
    "collapsed": true
   },
   "outputs": [],
   "source": [
    "import random\n",
    "import math\n",
    "import copy\n",
    "from heapq import heappush, heappop\n",
    "from collections import defaultdict\n",
    "def isSorted(nodes):\n",
    "    if(len(nodes)==0):\n",
    "        return True\n",
    "    for i in range(1,len(nodes)):\n",
    "        if(nodes[i-1] > nodes[i]):\n",
    "            return False\n",
    "    return True\n",
    "\n",
    "def EuclideanDistance(point1_x, point1_y, point2_x, point2_y):\n",
    "    internalCalculation = math.pow((point1_x - point2_x),2) + math.pow((point1_y - point2_y),2)\n",
    "    return math.sqrt(internalCalculation);\n",
    "\n",
    "def getDistanceBetweenNodes(node, otherNode, AdjHash, Map, DistanceComputation):\n",
    "    if(node == otherNode):\n",
    "        return 0;\n",
    "    if(otherNode in AdjHash and node in AdjHash[otherNode]):\n",
    "        return AdjHash[otherNode][node]\n",
    "    return DistanceComputation(Map[node][0], Map[node][1], Map[otherNode][0], Map[otherNode][1])\n",
    "\n",
    "def computeAdjHashOfCompleteGraph(Map, DistanceComputation):\n",
    "    # Input::  Map: {0: (0.13037375991631983, 0.17982980099790336), ... }\n",
    "    nodes = Map.keys()\n",
    "    assert isSorted(nodes)\n",
    "    AdjHash= {}\n",
    "    for node in nodes:\n",
    "        AdjHash[node] = {}\n",
    "        for otherNode in nodes:\n",
    "            AdjHash[node][otherNode] = getDistanceBetweenNodes(node, otherNode, AdjHash, Map, DistanceComputation)\n",
    "    return AdjHash\n",
    "\n",
    "def TspGenerator(numberOfCities, lowRange=0.0, highRange=1.0, DistanceComputation=EuclideanDistance):\n",
    "    Map = {}\n",
    "    inverseMap = {}\n",
    "    AdjHash = {}\n",
    "    for x in range(0, numberOfCities):\n",
    "        coordinate = (random.uniform(lowRange, highRange), random.uniform(lowRange, highRange))\n",
    "        tries = 0;\n",
    "        while(coordinate in inverseMap):\n",
    "            coordinate = (random.uniform(lowRange, highRange), random.uniform(lowRange, highRange))\n",
    "            tries+=1;\n",
    "            if(tries==5):\n",
    "                print \"Unable to Generate Coordinates\"\n",
    "                return ;\n",
    "        Map[x] = coordinate\n",
    "        inverseMap[coordinate] = x\n",
    "    return Map, inverseMap, computeAdjHashOfCompleteGraph(Map, DistanceComputation);"
   ]
  },
  {
   "cell_type": "code",
   "execution_count": 2,
   "metadata": {
    "collapsed": false
   },
   "outputs": [],
   "source": [
    "def isAllVisited(VisitedHash, nodes):\n",
    "    for node in nodes:\n",
    "        if(node not in VisitedHash):\n",
    "            return False\n",
    "    return True\n",
    "\n",
    "def PrimsAlgorithm(startNode, nodes, AdjHash):\n",
    "#     print startNode, nodes\n",
    "    #Input startNode : type int, nodes : type list of int's\n",
    "    MSTCost = 0;\n",
    "    h = []\n",
    "    visitedHash = {}\n",
    "    visitedHash[startNode] = True\n",
    "    prevNode = startNode\n",
    "    MstEdges = []\n",
    "    while(not isAllVisited(visitedHash, nodes)):\n",
    "        for node in nodes:\n",
    "            if(node not in visitedHash.keys()):\n",
    "#                 print h\n",
    "                heappush(h, (AdjHash[prevNode][node], (prevNode, node)))\n",
    "        cost, edge = heappop(h)\n",
    "        parentNode, minNode = edge\n",
    "        while(minNode in visitedHash):\n",
    "            # if min node was alreadyVisited\n",
    "            cost, edge = heappop(h)\n",
    "            parentNode, minNode = edge\n",
    "        MSTCost += cost\n",
    "        MstEdges.append((parentNode, minNode))\n",
    "        visitedHash[minNode] = True\n",
    "    return MSTCost, MstEdges;\n",
    "\n",
    "def MSTHeuristic(startNode, nodes, AdjHash):\n",
    "    #Input :: AdjHash is a Adjacency map of the entire set of nodes with the value being the distance\n",
    "    assert startNode in nodes;\n",
    "    cost, edges = PrimsAlgorithm(startNode, nodes, AdjHash)\n",
    "    return cost;\n",
    "    \n",
    "\n",
    "    \n",
    "class TspNode:\n",
    "    def __init__(self, x, y, nodeNumber, path_cost, parentNode, heuristicCostMap, listOfNodeNumbers, AdjHash, HeuristicFunction=MSTHeuristic):\n",
    "        self.pos_x = x\n",
    "        self.pos_y = y\n",
    "        self.node_number = nodeNumber\n",
    "        self.g_cost = path_cost\n",
    "        self.parent = parentNode\n",
    "        \n",
    "        # This is not the start node\n",
    "        if(parentNode!=-1):\n",
    "            self.nodes_visited = copy.copy(parentNode.nodes_visited)\n",
    "            MSTSet = frozenset(set(listOfNodeNumbers) - set(self.nodes_visited.keys()))\n",
    "            if(len(MSTSet)==1):\n",
    "                heuristicCostMap[MSTSet] = 0;\n",
    "            if(MSTSet not in heuristicCostMap):\n",
    "                heuristicCostMap[MSTSet] = HeuristicFunction(self.node_number, list(MSTSet), AdjHash)\n",
    "            heuristicCost = heuristicCostMap[MSTSet]\n",
    "        else:\n",
    "            heuristicCostMap[frozenset(listOfNodeNumbers)] = HeuristicFunction(self.node_number, listOfNodeNumbers, AdjHash)\n",
    "            heuristicCost = heuristicCostMap[frozenset(listOfNodeNumbers)]\n",
    "        self.h_cost = heuristicCost\n",
    "        self.f_cost = self.g_cost + self.h_cost\n",
    "        \n",
    "def goalTest(node, listOfNodeNumbers):\n",
    "    return isAllVisited(node.nodes_visited, list(set(listOfNodeNumbers) - set([node.node_number])))\n",
    "\n",
    "def appendToFrontier(newNode, Frontier):\n",
    "    if(newNode.f_cost in Frontier):\n",
    "        Frontier[newNode.f_cost].append(newNode)\n",
    "    else:\n",
    "        Frontier[newNode.f_cost] = [newNode]\n",
    "\n",
    "def printPathTraversed(node, printOutput=True):\n",
    "    pathTraversed = []\n",
    "    while(node.parent!=-1):\n",
    "        pathTraversed.append(node.node_number)\n",
    "        node=node.parent\n",
    "    pathTraversed.append(node.node_number)\n",
    "    pathTraversed = list(reversed(pathTraversed))\n",
    "    pathTraversed.append(pathTraversed[0])\n",
    "    if(printOutput):\n",
    "        print pathTraversed\n",
    "    return pathTraversed\n",
    "    \n",
    "def popMinNode(Frontier):\n",
    "    isFrontierPresent = bool([a for a in Frontier.values() if a != []])\n",
    "    if not isFrontierPresent:\n",
    "        return None \n",
    "    m = min(i for i in Frontier.keys() if len(Frontier[i]) > 0)\n",
    "    minNode = Frontier[m].pop(0)\n",
    "    return minNode;\n",
    "        \n",
    "def hasTraversedPreviously(newNodeNumber, node):\n",
    "    if(newNodeNumber in node.nodes_visited):\n",
    "        return True\n",
    "    return False\n",
    "\n",
    "def findBestNode(Frontier):\n",
    "    bestNode = popMinNode(Frontier)\n",
    "    if bestNode == None:\n",
    "        return None \n",
    "    while((hasTraversedPreviously(bestNode.node_number, bestNode))):\n",
    "        bestNode = popMinNode(Frontier)\n",
    "    return bestNode\n",
    "        \n",
    "def checkIfFCostIsGreaterThanBestFinalNode(bestFinalNode, node):\n",
    "    if(bestFinalNode.f_cost <= node.f_cost):\n",
    "        return False\n",
    "    return True\n",
    "\n",
    "def checkNoOtherBetterNodeToExpand(Frontier, finalNode):\n",
    "    bestNodeToExpand = findBestNode(Frontier)\n",
    "    return checkIfFCostIsGreaterThanBestFinalNode(finalNode, bestNodeToExpand)\n",
    "\n",
    "def appendToFrontier(newNode, Frontier):\n",
    "    if(newNode.f_cost in Frontier):\n",
    "        Frontier[newNode.f_cost].append(newNode)\n",
    "    else:\n",
    "        Frontier[newNode.f_cost] = [newNode]\n",
    "\n",
    "def expandNode(Node, Frontier, AdjHash, listOfNodeNumbers, Map, heuristicCostMap, HeuristicFunction):\n",
    "    Node.nodes_visited[Node.node_number] = True\n",
    "#     print Frontier\n",
    "    toExpand = list(set(listOfNodeNumbers) - set(Node.nodes_visited.keys()))\n",
    "    cntNodesGen = 0\n",
    "    for nodeNumber in toExpand:\n",
    "        if(nodeNumber != Node.node_number):\n",
    "            latitude = Map[nodeNumber][0]\n",
    "            longitude = Map[nodeNumber][1]\n",
    "            tspNode = TspNode(latitude, longitude, nodeNumber, Node.g_cost+AdjHash[Node.node_number][nodeNumber], Node, heuristicCostMap, listOfNodeNumbers, AdjHash, HeuristicFunction)\n",
    "            appendToFrontier(tspNode, Frontier)\n",
    "            cntNodesGen+=1\n",
    "#     print Frontier\n",
    "    return cntNodesGen;\n",
    "    \n",
    "def solveAstar(startNode, AdjHash, listOfNodeNumbers, Map, HeuristicFunction=MSTHeuristic, printOutput=True):\n",
    "    heuristicCostMap = {}\n",
    "    #Input startNode : type int, listOfNodeNumbers : type list of int's\n",
    "    latitude = Map[startNode][0]\n",
    "    longitude = Map[startNode][1]\n",
    "    sNode = TspNode(latitude, longitude, startNode, 0, -1, heuristicCostMap, listOfNodeNumbers, AdjHash, HeuristicFunction)\n",
    "    sNode.nodes_visited = {}\n",
    "    Frontier = defaultdict(list)\n",
    "    Frontier[sNode.f_cost] = [sNode]\n",
    "#     print Frontier\n",
    "    isCompleted = False\n",
    "    bestFinalNode = None\n",
    "    FoundCostToFinal = False;\n",
    "    noOfNodesExpanded = 0\n",
    "    cntNodesGenerated = 0\n",
    "    while(len(Frontier)!=0 or isCompleted):\n",
    "        bestNode = findBestNode(Frontier)\n",
    "        if(bestNode==None):\n",
    "            break;\n",
    "        isNodeGoalState = goalTest(bestNode, listOfNodeNumbers)\n",
    "#         if(isNodeGoalState and checkNoOtherBetterNodeToExpand(Frontier, bestNode)):\n",
    "#             isCompleted = True\n",
    "#             break\n",
    "        if(bestFinalNode != None and bestNode.f_cost > bestFinalNode.g_cost + AdjHash[bestFinalNode.node_number][sNode.node_number]):\n",
    "            isCompleted = True\n",
    "            break\n",
    "        if(isNodeGoalState):\n",
    "            if(printOutput):\n",
    "                print \" ******* reached Goal State ******* \"\n",
    "                print \" Nodes Reached by Goal State of node number %d is %s\" %(bestNode.node_number, bestNode.nodes_visited)\n",
    "                print \" ******* ****************** ******* \"\n",
    "            \n",
    "#             if(bestFinalNode != None):\n",
    "                #print bestFinalNode.f_cost\n",
    "                #print bestFinalNode.g_cost + AdjHash[bestFinalNode.node_number][sNode.node_number]\n",
    "            if(not FoundCostToFinal):\n",
    "                bestFinalNode = bestNode\n",
    "                FoundCostToFinal = True\n",
    "            else:\n",
    "                if(bestFinalNode.g_cost + AdjHash[bestFinalNode.node_number][sNode.node_number] > bestNode.g_cost  + AdjHash[bestNode.node_number][sNode.node_number]):\n",
    "                    bestFinalNode=bestNode\n",
    "        if(not isNodeGoalState):\n",
    "            noOfNodesExpanded+=1\n",
    "            if(printOutput):\n",
    "                print \"Expanding Node : %d and nodes visited %s\" %(bestNode.node_number, bestNode.nodes_visited)\n",
    "            cntNodesGenerated += expandNode(bestNode, Frontier, AdjHash, listOfNodeNumbers, Map, heuristicCostMap, HeuristicFunction)\n",
    "    if(printOutput):\n",
    "        print heuristicCostMap\n",
    "    totalCost = bestFinalNode.g_cost + AdjHash[bestFinalNode.node_number][sNode.node_number]\n",
    "    return bestFinalNode, totalCost, noOfNodesExpanded, cntNodesGenerated"
   ]
  },
  {
   "cell_type": "code",
   "execution_count": 4,
   "metadata": {
    "collapsed": false
   },
   "outputs": [
    {
     "name": "stdout",
     "output_type": "stream",
     "text": [
      "{0: (0.2033827297058306, 0.9562512143565314), 1: (0.9487836498883154, 0.7314584654230407), 2: (0.43897047333718353, 0.9927528394062425), 3: (0.840187307459104, 0.3418782347437366), 4: (0.42687910972110943, 0.869284223921773), 5: (0.4936600257565136, 0.5660062795064156), 6: (0.6933004928108846, 0.9602071650912056), 7: (0.724321301177792, 0.02301351038396382), 8: (0.19029763720915926, 0.15605589885605453), 9: (0.7648942365340122, 0.48521745806438277)}\n",
      "{0: {0: 0, 1: 0.7785591254246337, 2: 0.23839872814380064, 3: 0.8848583097455933, 4: 0.23982053562031191, 5: 0.4863661355179521, 6: 0.48993373444995086, 7: 1.0687888506918648, 8: 0.8003022945078655, 9: 0.7329174386430891}, 1: {0: 0.7785591254246337, 1: 0, 2: 0.5728736552333585, 3: 0.4044328395730772, 4: 0.5397965253249539, 5: 0.4842643276842257, 6: 0.34292508095811175, 7: 0.7431538200863697, 8: 0.9520447179842972, 9: 0.30732710594543466}, 2: {0: 0.23839872814380064, 1: 0.5728736552333585, 2: 0, 3: 0.7645996985203368, 4: 0.12405926037079178, 5: 0.4302366482880825, 6: 0.25640393858541566, 7: 1.01085086001937, 8: 0.8728688044339767, 9: 0.6031736588497623}, 3: {0: 0.8848583097455933, 1: 0.4044328395730772, 2: 0.7645996985203368, 3: 0, 4: 0.6700602538117689, 5: 0.41269181893190937, 6: 0.6355363108604776, 7: 0.33926338419083024, 8: 0.6759338162958978, 9: 0.16191102331681118}, 4: {0: 0.23982053562031191, 1: 0.5397965253249539, 2: 0.12405926037079178, 3: 0.6700602538117689, 4: 0, 5: 0.31054339844107504, 6: 0.28150903111333536, 7: 0.8970206117199017, 8: 0.7514422378413212, 9: 0.511626334926671}, 5: {0: 0.4863661355179521, 1: 0.4842643276842257, 2: 0.4302366482880825, 3: 0.41269181893190937, 4: 0.31054339844107504, 5: 0, 6: 0.4418717622585993, 7: 0.589954041683112, 8: 0.5099882874934795, 9: 0.2830103015193709}, 6: {0: 0.48993373444995086, 1: 0.34292508095811175, 2: 0.25640393858541566, 3: 0.6355363108604776, 4: 0.28150903111333536, 5: 0.4418717622585993, 6: 0, 7: 0.9377069035552917, 8: 0.9485099534169829, 9: 0.4803549582566208}, 7: {0: 1.0687888506918648, 1: 0.7431538200863697, 2: 1.01085086001937, 3: 0.33926338419083024, 4: 0.8970206117199017, 5: 0.589954041683112, 6: 0.9377069035552917, 7: 0, 8: 0.5503467550634253, 9: 0.4639813060186622}, 8: {0: 0.8003022945078655, 1: 0.9520447179842972, 2: 0.8728688044339767, 3: 0.6759338162958978, 4: 0.7514422378413212, 5: 0.5099882874934795, 6: 0.9485099534169829, 7: 0.5503467550634253, 8: 0, 9: 0.662199806717084}, 9: {0: 0.7329174386430891, 1: 0.30732710594543466, 2: 0.6031736588497623, 3: 0.16191102331681118, 4: 0.511626334926671, 5: 0.2830103015193709, 6: 0.4803549582566208, 7: 0.4639813060186622, 8: 0.662199806717084, 9: 0}}\n",
      "Expanding Node : 0 and nodes visited {}\n",
      "Expanding Node : 2 and nodes visited {0: True}\n",
      "Expanding Node : 4 and nodes visited {0: True, 2: True}\n",
      "Expanding Node : 6 and nodes visited {0: True, 2: True, 4: True}\n",
      "Expanding Node : 1 and nodes visited {0: True, 2: True, 4: True, 6: True}\n",
      "Expanding Node : 9 and nodes visited {0: True, 1: True, 2: True, 4: True, 6: True}\n",
      "Expanding Node : 3 and nodes visited {0: True, 1: True, 2: True, 4: True, 6: True, 9: True}\n",
      "Expanding Node : 7 and nodes visited {0: True, 1: True, 2: True, 3: True, 4: True, 6: True, 9: True}\n",
      "Expanding Node : 8 and nodes visited {0: True, 1: True, 2: True, 3: True, 4: True, 6: True, 7: True, 9: True}\n",
      " ******* reached Goal State ******* \n",
      " Nodes Reached by Goal State of node number 5 is {0: True, 1: True, 2: True, 3: True, 4: True, 6: True, 7: True, 8: True, 9: True}\n",
      " ******* ****************** ******* \n",
      "Expanding Node : 5 and nodes visited {0: True, 1: True, 2: True, 3: True, 4: True, 6: True, 7: True, 9: True}\n",
      " ******* reached Goal State ******* \n",
      " Nodes Reached by Goal State of node number 8 is {0: True, 1: True, 2: True, 3: True, 4: True, 5: True, 6: True, 7: True, 9: True}\n",
      " ******* ****************** ******* \n",
      "Expanding Node : 5 and nodes visited {0: True, 1: True, 2: True, 3: True, 4: True, 6: True, 9: True}\n",
      "Expanding Node : 8 and nodes visited {0: True, 1: True, 2: True, 3: True, 4: True, 5: True, 6: True, 9: True}\n",
      " ******* reached Goal State ******* \n",
      " Nodes Reached by Goal State of node number 7 is {0: True, 1: True, 2: True, 3: True, 4: True, 5: True, 6: True, 8: True, 9: True}\n",
      " ******* ****************** ******* \n",
      "Expanding Node : 7 and nodes visited {0: True, 1: True, 2: True, 3: True, 4: True, 5: True, 6: True, 9: True}\n",
      " ******* reached Goal State ******* \n",
      " Nodes Reached by Goal State of node number 8 is {0: True, 1: True, 2: True, 3: True, 4: True, 5: True, 6: True, 7: True, 9: True}\n",
      " ******* ****************** ******* \n",
      "Expanding Node : 8 and nodes visited {0: True, 1: True, 2: True, 3: True, 4: True, 6: True, 9: True}\n",
      "Expanding Node : 5 and nodes visited {0: True, 1: True, 2: True, 3: True, 4: True, 6: True, 8: True, 9: True}\n",
      " ******* reached Goal State ******* \n",
      " Nodes Reached by Goal State of node number 7 is {0: True, 1: True, 2: True, 3: True, 4: True, 5: True, 6: True, 8: True, 9: True}\n",
      " ******* ****************** ******* \n",
      "Expanding Node : 7 and nodes visited {0: True, 1: True, 2: True, 3: True, 4: True, 6: True, 8: True, 9: True}\n",
      " ******* reached Goal State ******* \n",
      " Nodes Reached by Goal State of node number 5 is {0: True, 1: True, 2: True, 3: True, 4: True, 6: True, 7: True, 8: True, 9: True}\n",
      " ******* ****************** ******* \n",
      "Expanding Node : 5 and nodes visited {0: True, 1: True, 2: True, 4: True, 6: True, 9: True}\n",
      "Expanding Node : 3 and nodes visited {0: True, 1: True, 2: True, 4: True, 5: True, 6: True, 9: True}\n",
      "Expanding Node : 7 and nodes visited {0: True, 1: True, 2: True, 3: True, 4: True, 5: True, 6: True, 9: True}\n",
      " ******* reached Goal State ******* \n",
      " Nodes Reached by Goal State of node number 8 is {0: True, 1: True, 2: True, 3: True, 4: True, 5: True, 6: True, 7: True, 9: True}\n",
      " ******* ****************** ******* \n",
      "Expanding Node : 8 and nodes visited {0: True, 1: True, 2: True, 3: True, 4: True, 5: True, 6: True, 9: True}\n",
      " ******* reached Goal State ******* \n",
      " Nodes Reached by Goal State of node number 7 is {0: True, 1: True, 2: True, 3: True, 4: True, 5: True, 6: True, 8: True, 9: True}\n",
      " ******* ****************** ******* \n",
      "Expanding Node : 8 and nodes visited {0: True, 1: True, 2: True, 4: True, 5: True, 6: True, 9: True}\n",
      "Expanding Node : 7 and nodes visited {0: True, 1: True, 2: True, 4: True, 5: True, 6: True, 8: True, 9: True}\n",
      " ******* reached Goal State ******* \n",
      " Nodes Reached by Goal State of node number 3 is {0: True, 1: True, 2: True, 4: True, 5: True, 6: True, 7: True, 8: True, 9: True}\n",
      " ******* ****************** ******* \n",
      "Expanding Node : 3 and nodes visited {0: True, 1: True, 2: True, 4: True, 5: True, 6: True, 8: True, 9: True}\n",
      " ******* reached Goal State ******* \n",
      " Nodes Reached by Goal State of node number 7 is {0: True, 1: True, 2: True, 3: True, 4: True, 5: True, 6: True, 8: True, 9: True}\n",
      " ******* ****************** ******* \n",
      "{frozenset([5, 7]): 0.589954041683112, frozenset([7]): 0, frozenset([3, 7]): 0.33926338419083024, frozenset([5]): 0, frozenset([8, 3, 7]): 1.226280571359323, frozenset([8, 3, 5, 7]): 1.7362688588528026, frozenset([8, 5, 7]): 1.060335042556905, frozenset([1, 2, 3, 4, 5, 6, 7, 8, 9]): 4.346818072789828, frozenset([1, 3, 5, 6, 7, 8, 9]): 3.2341478922315163, frozenset([8]): 0, frozenset([8, 7]): 0.5503467550634253, frozenset([3]): 0, frozenset([8, 5]): 0.5099882874934795, frozenset([1, 3, 4, 5, 6, 7, 8, 9]): 3.77394441755647, frozenset([8, 9, 3, 5, 7]): 2.3984686655698866, frozenset([1, 3, 5, 7, 8, 9]): 2.8912228112734044, frozenset([0, 1, 2, 3, 4, 5, 6, 7, 8, 9]): 5.719945152745062}\n"
     ]
    }
   ],
   "source": [
    "Map, inverseMap, AdjHash = TspGenerator(10)\n",
    "nodes = Map.keys()\n",
    "startNode = 0\n",
    "print Map\n",
    "print AdjHash\n",
    "bestFinalNode, TotalCost, noOfNodesExpanded, noOfNodesGenerated = solveAstar(startNode, AdjHash, nodes, Map)"
   ]
  },
  {
   "cell_type": "code",
   "execution_count": 5,
   "metadata": {
    "collapsed": false
   },
   "outputs": [
    {
     "name": "stdout",
     "output_type": "stream",
     "text": [
      "[0, 2, 4, 6, 1, 9, 3, 7, 8, 5, 0]\n",
      "3.34209479211 23\n"
     ]
    }
   ],
   "source": [
    "printPathTraversed(bestFinalNode)\n",
    "print TotalCost,noOfNodesExpanded"
   ]
  },
  {
   "cell_type": "code",
   "execution_count": 5,
   "metadata": {
    "collapsed": false
   },
   "outputs": [],
   "source": [
    "import timeit\n",
    "import datetime\n",
    "import random\n",
    "%matplotlib inline\n",
    "import matplotlib\n",
    "import numpy as np\n",
    "import matplotlib.pyplot as plt\n",
    "\n",
    "startRange = 3\n",
    "endRange = 15\n",
    "nodes_size = []\n",
    "time_taken = []\n",
    "nodes_expanded = []\n",
    "nodes_generated = []\n",
    "\n",
    "# Data Used \n",
    "MapsUsed = []\n",
    "inverseMapsUsed = []\n",
    "AdjHashUsed = []\n",
    "TotalCosts = []\n",
    "PathsTraversed = []\n",
    "for i in range(0,100):\n",
    "    noOfNodes = random.randint(startRange, endRange)\n",
    "    Map, inverseMap, AdjHash = TspGenerator(noOfNodes)\n",
    "    nodes = Map.keys()\n",
    "    nodes_size.append(noOfNodes)\n",
    "    startNode = 0\n",
    "#     print \"###### STARTED #######\"\n",
    "#     print Map\n",
    "    start_time = timeit.default_timer()\n",
    "    bestFinalNode, TotalCost, noOfNodesExpanded, noOfNodesGenerated = solveAstar(startNode, AdjHash, nodes, Map, MSTHeuristic, False)\n",
    "    elapsed = timeit.default_timer() - start_time\n",
    "    nodes_generated.append(noOfNodesGenerated)\n",
    "    nodes_expanded.append(noOfNodesExpanded)\n",
    "    time_taken.append(elapsed)\n",
    "    MapsUsed.append(Map)\n",
    "    inverseMapsUsed.append(inverseMap)\n",
    "    AdjHashUsed.append(AdjHash)\n",
    "    TotalCosts.append(TotalCost)\n",
    "    PathsTraversed.append(printPathTraversed(bestFinalNode, False))\n",
    "\n"
   ]
  },
  {
   "cell_type": "code",
   "execution_count": 6,
   "metadata": {
    "collapsed": false
   },
   "outputs": [
    {
     "data": {
      "text/plain": [
       "<matplotlib.collections.PathCollection at 0x1061b3f10>"
      ]
     },
     "execution_count": 6,
     "metadata": {},
     "output_type": "execute_result"
    },
    {
     "data": {
      "image/png": "[encoded data removed]",
      "text/plain": [
       "<matplotlib.figure.Figure at 0x103bac290>"
      ]
     },
     "metadata": {},
     "output_type": "display_data"
    }
   ],
   "source": [
    "# plot\n",
    "plt.xlabel('Number of Cities')\n",
    "plt.ylabel('Time in Seconds')\n",
    "plt.scatter(nodes_size,time_taken)"
   ]
  },
  {
   "cell_type": "code",
   "execution_count": 7,
   "metadata": {
    "collapsed": false
   },
   "outputs": [
    {
     "data": {
      "text/plain": [
       "<matplotlib.collections.PathCollection at 0x106152790>"
      ]
     },
     "execution_count": 7,
     "metadata": {},
     "output_type": "execute_result"
    },
    {
     "data": {
      "image/png": "[encoded data removed]",
      "text/plain": [
       "<matplotlib.figure.Figure at 0x105defa10>"
      ]
     },
     "metadata": {},
     "output_type": "display_data"
    }
   ],
   "source": [
    "# plot\n",
    "plt.xlabel('Number of Cities')\n",
    "plt.ylabel('Number of Nodes Expanded')\n",
    "plt.scatter(nodes_size,nodes_expanded)"
   ]
  },
  {
   "cell_type": "code",
   "execution_count": 8,
   "metadata": {
    "collapsed": false
   },
   "outputs": [
    {
     "data": {
      "text/plain": [
       "<matplotlib.collections.PathCollection at 0x1061e11d0>"
      ]
     },
     "execution_count": 8,
     "metadata": {},
     "output_type": "execute_result"
    },
    {
     "data": {
      "image/png": "[encoded data removed]",
      "text/plain": [
       "<matplotlib.figure.Figure at 0x105ad89d0>"
      ]
     },
     "metadata": {},
     "output_type": "display_data"
    }
   ],
   "source": [
    "# plot\n",
    "plt.xlabel('Number of Cities')\n",
    "plt.ylabel('Number of Nodes Generated')\n",
    "plt.scatter(nodes_size,nodes_generated)"
   ]
  },
  {
   "cell_type": "code",
   "execution_count": 9,
   "metadata": {
    "collapsed": false
   },
   "outputs": [],
   "source": [
    "# Testing Prims Algorithm\n",
    "ExamplestartNode = 1\n",
    "Examplenodes = [1,2,3,4]\n",
    "ExampleAdjHash =  {\n",
    "    1:{ \n",
    "        1: 0,\n",
    "        2: 10,\n",
    "        3: 15,\n",
    "        4: 20\n",
    "      },\n",
    "    2:{ \n",
    "        1: 10,\n",
    "        2: 0,\n",
    "        3: 35,\n",
    "        4: 25\n",
    "      },\n",
    "    3:{ \n",
    "        1: 15,\n",
    "        2: 35,\n",
    "        3: 0,\n",
    "        4: 30\n",
    "      },\n",
    "    4:{ \n",
    "        1: 20,\n",
    "        2: 25,\n",
    "        3: 30,\n",
    "        4: 0\n",
    "      }\n",
    "}\n",
    "ExampleMap = {\n",
    "    1:(0,0),\n",
    "    2:(1,1),\n",
    "    3:(2,2),\n",
    "    4:(3,3)\n",
    "}\n",
    "ExampleheuristicCost, Edges = PrimsAlgorithm(ExamplestartNode, Examplenodes, ExampleAdjHash)\n"
   ]
  },
  {
   "cell_type": "code",
   "execution_count": 10,
   "metadata": {
    "collapsed": false
   },
   "outputs": [
    {
     "name": "stdout",
     "output_type": "stream",
     "text": [
      "Expanding Node : 1 and nodes visited {}\n",
      "Expanding Node : 2 and nodes visited {1: True}\n",
      "Expanding Node : 4 and nodes visited {1: True, 2: True}\n",
      " ******* reached Goal State ******* \n",
      " Nodes Reached by Goal State of node number 3 is {1: True, 2: True, 4: True}\n",
      " ******* ****************** ******* \n",
      "Expanding Node : 3 and nodes visited {1: True}\n",
      "Expanding Node : 4 and nodes visited {1: True, 3: True}\n",
      " ******* reached Goal State ******* \n",
      " Nodes Reached by Goal State of node number 2 is {1: True, 3: True, 4: True}\n",
      " ******* ****************** ******* \n",
      "Expanding Node : 3 and nodes visited {1: True, 2: True}\n",
      "Expanding Node : 2 and nodes visited {1: True, 3: True}\n",
      " ******* reached Goal State ******* \n",
      " Nodes Reached by Goal State of node number 4 is {1: True, 2: True, 3: True}\n",
      " ******* ****************** ******* \n",
      " ******* reached Goal State ******* \n",
      " Nodes Reached by Goal State of node number 4 is {1: True, 2: True, 3: True}\n",
      " ******* ****************** ******* \n",
      "Expanding Node : 4 and nodes visited {1: True}\n",
      "Expanding Node : 2 and nodes visited {1: True, 4: True}\n",
      " ******* reached Goal State ******* \n",
      " Nodes Reached by Goal State of node number 3 is {1: True, 2: True, 4: True}\n",
      " ******* ****************** ******* \n",
      "{frozenset([2, 4]): 25, frozenset([3]): 0, frozenset([1, 2, 3, 4]): 45, frozenset([2, 3, 4]): 60, frozenset([3, 4]): 30, frozenset([4]): 0, frozenset([2, 3]): 35, frozenset([2]): 0}\n"
     ]
    }
   ],
   "source": [
    "ExamplebestNode, ExampleTotalCost, ExamplenoOfNodesExpanded, ExampleNoOfNodesGenerated = solveAstar(ExamplestartNode, ExampleAdjHash, Examplenodes, ExampleMap)"
   ]
  },
  {
   "cell_type": "code",
   "execution_count": 11,
   "metadata": {
    "collapsed": false
   },
   "outputs": [
    {
     "name": "stdout",
     "output_type": "stream",
     "text": [
      "[1, 2, 4, 3, 1]\n",
      "[1, 2, 4, 3, 1]\n",
      "80\n"
     ]
    }
   ],
   "source": [
    "print printPathTraversed(ExamplebestNode)\n",
    "print ExampleTotalCost"
   ]
  },
  {
   "cell_type": "code",
   "execution_count": 12,
   "metadata": {
    "collapsed": false
   },
   "outputs": [],
   "source": [
    "def getInputFromFile(fileName):\n",
    "    try:\n",
    "        Map = {}\n",
    "        inverseMap = {}\n",
    "        in_file = open(fileName, 'r')\n",
    "        lines = in_file.readlines()\n",
    "        ind = 0;\n",
    "        for line in lines:\n",
    "            if(line[0]=='1'):\n",
    "                break\n",
    "            else:\n",
    "                ind+=1\n",
    "        for line in lines[ind:len(lines)-1]:\n",
    "            data = line.split()\n",
    "            nodeNo = int(data[0])\n",
    "            latitude, longitude = float(data[1]), float(data[2])\n",
    "            coordinate = (latitude, longitude)\n",
    "            Map[nodeNo] = coordinate\n",
    "            inverseMap[coordinate] = nodeNo\n",
    "    finally:\n",
    "        in_file.close()\n",
    "    return Map, inverseMap, computeAdjHashOfCompleteGraph(Map, DistanceComputation=EuclideanDistance)\n",
    "\n",
    "\n",
    "#GEOM-norm\n",
    "M_PI = 3.14159265358979323846264\n",
    "\n",
    "def geom_edgelen(xi, xj, yi, yj):\n",
    "    lati = M_PI * xi / 180.0;\n",
    "    latj = M_PI * xj / 180.0;\n",
    "\n",
    "    longi = M_PI * yi / 180.0;\n",
    "    longj = M_PI * yj / 180.0;\n",
    "\n",
    "    q1 = math.cos (latj) * math.sin(longi - longj);\n",
    "    q3 = math.sin((longi - longj)/2.0);\n",
    "    q4 = math.cos((longi - longj)/2.0);\n",
    "    q2 = math.sin(lati + latj) * q3 * q3 - math.sin(lati - latj) * q4 * q4;\n",
    "    q5 = math.cos(lati - latj) * q4 * q4 - math.cos(lati + latj) * q3 * q3;\n",
    "    return (int) (6378388.0 * math.atan2(sqrt(q1*q1 + q2*q2), q5) + 1.0);\n",
    "\n"
   ]
  },
  {
   "cell_type": "code",
   "execution_count": 13,
   "metadata": {
    "collapsed": false
   },
   "outputs": [
    {
     "name": "stdout",
     "output_type": "stream",
     "text": [
      "{1: (20833.3333, 17100.0), 2: (20900.0, 17066.6667), 3: (21300.0, 13016.6667), 4: (21600.0, 14150.0), 5: (21600.0, 14966.6667), 6: (21600.0, 16500.0), 7: (22183.3333, 13133.3333), 8: (22583.3333, 14300.0), 9: (22683.3333, 12716.6667), 10: (23616.6667, 15866.6667), 11: (23700.0, 15933.3333), 12: (23883.3333, 14533.3333), 13: (24166.6667, 13250.0), 14: (25149.1667, 12365.8333), 15: (26133.3333, 14500.0), 16: (26150.0, 10550.0), 17: (26283.3333, 12766.6667), 18: (26433.3333, 13433.3333), 19: (26550.0, 13850.0), 20: (26733.3333, 11683.3333), 21: (27026.1111, 13051.9444), 22: (27096.1111, 13415.8333), 23: (27153.6111, 13203.3333), 24: (27166.6667, 9833.3333), 25: (27233.3333, 10450.0), 26: (27233.3333, 11783.3333), 27: (27266.6667, 10383.3333), 28: (27433.3333, 12400.0), 29: (27462.5, 12992.2222)}\n"
     ]
    }
   ],
   "source": [
    "# Optional Question Answers : (Q6.4)\n",
    "def OptimizedMSTHeuristic(startNode, nodes, AdjHash):\n",
    "#     print \"COMPUTING Optimized HEURISTIC\"\n",
    "    minCostBackToStartNode = 0.0\n",
    "    for node in nodes:\n",
    "        if(node!=startNode):\n",
    "            minCostBackToStartNode = min(minCostBackToStartNode, AdjHash[node][startNode])\n",
    "    return MSTHeuristic(startNode, nodes, AdjHash) + minCostBackToStartNode\n",
    "\n",
    "WCityMap, WCityinverseMap, WCityAdjHash = getInputFromFile('wi29.tsp.txt')\n",
    "WCitystartNode = 1\n",
    "WCitynodes = WCityMap.keys()\n",
    "print WCityMap"
   ]
  },
  {
   "cell_type": "code",
   "execution_count": 14,
   "metadata": {
    "collapsed": false
   },
   "outputs": [],
   "source": [
    "WCitybestNode, WCityTotalCost, WCitynoOfNodesExpanded, WCityNoOfNodesExpanded = solveAstar(WCitystartNode, WCityAdjHash, WCitynodes, WCityMap, OptimizedMSTHeuristic, False)"
   ]
  },
  {
   "cell_type": "code",
   "execution_count": 15,
   "metadata": {
    "collapsed": false
   },
   "outputs": [
    {
     "name": "stdout",
     "output_type": "stream",
     "text": [
      "[1, 2, 6, 5, 4, 8, 7, 9, 3, 13, 12, 10, 11, 15, 19, 18, 22, 23, 21, 29, 28, 26, 20, 16, 24, 27, 25, 17, 14, 1]\n",
      "Total Cost was 33842.943130\n"
     ]
    }
   ],
   "source": [
    "printPathTraversed(WCitybestNode)\n",
    "print \"Total Cost was %f\" %(WCityTotalCost)"
   ]
  },
  {
   "cell_type": "markdown",
   "metadata": {},
   "source": [
    "Q 6.6\n",
    "Implement and test a hill-climbing method to solve TSPs. Compare the results with the optimal solutions obtained using A*\n"
   ]
  },
  {
   "cell_type": "code",
   "execution_count": 16,
   "metadata": {
    "collapsed": false
   },
   "outputs": [],
   "source": [
    "#http://homepage.divms.uiowa.edu/~hzhang/c231/ch12.pdf\n",
    "#https://www.cs.cmu.edu/afs/cs/academic/class/15381-s07/www/slides/012507searchlocal.pdf\n",
    "class HillNode:\n",
    "    def __init__(self, x, y, nodeNumber, path_cost, parentNode, AdjHash):\n",
    "        self.pos_x = x\n",
    "        self.pos_y = y\n",
    "        self.node_number = nodeNumber\n",
    "        self.g_cost = path_cost\n",
    "        self.parent = parentNode\n",
    "\n",
    "def CostTour(Tour, AdjHash):\n",
    "    prev = Tour[0].node_number\n",
    "    Cost = 0.0\n",
    "    for ind in range(1,len(Tour)):\n",
    "        node = Tour[ind]\n",
    "        Cost+=AdjHash[prev][node.node_number]\n",
    "        prev = node.node_number\n",
    "    #add Cost For Start as well\n",
    "    Cost+=AdjHash[prev][0]\n",
    "    return Cost\n",
    "       \n",
    "def printTour(Tour):\n",
    "    Traversal = []\n",
    "    for ind in range(0,len(Tour)):\n",
    "        node = Tour[ind]\n",
    "        Traversal.append(node.node_number)\n",
    "    Traversal.append(Tour[0].node_number)\n",
    "    print str(Traversal)\n",
    "    return (Traversal)\n",
    "\n",
    "def findNeighbour(Tour,AdjHash,pathCost):\n",
    "    prev = 0\n",
    "    # I pick two nodes randomly except start and swap\n",
    "    index1=1\n",
    "    index2=1\n",
    "    newTour = copy.copy(Tour)\n",
    "    Cost = 0\n",
    "    changed = False\n",
    "    while(index1==index2):\n",
    "        index1 = random.randint(1, len(Tour)-1)\n",
    "        index2 = random.randint(1, len(Tour)-1)\n",
    "    swapNode = newTour[index1]\n",
    "    newTour[index1] = newTour[index2]\n",
    "    newTour[index2] = swapNode\n",
    "    for ind in range(1,len(newTour)):\n",
    "        node = Tour[ind]\n",
    "        Cost+=AdjHash[prev][node.node_number]\n",
    "        node.g_cost = Cost\n",
    "        prev = node.node_number\n",
    "    #add Cost For Start as well\n",
    "    Cost+=AdjHash[prev][0]\n",
    "    newTourCost = CostTour(newTour,AdjHash)\n",
    "    oldTourCost = CostTour(Tour,AdjHash)\n",
    "#     print \"new Tour %s Traversal has a cost of %f while old Tour %s has a cost of %f\" %(printTour(newTour), newTourCost, printTour(Tour), oldTourCost)\n",
    "    if(newTourCost<oldTourCost):\n",
    "        changed = True\n",
    "        Tour = newTour\n",
    "    return newTour, changed, Cost\n",
    "        \n",
    "    \n",
    "def HillClimbing(startNodeNumber, AdjHash, listOfNodeNumbers, Map):\n",
    "    Tour = []\n",
    "    prevNode = -1\n",
    "    prevNodeNumber = 0\n",
    "    pathCost = 0.0\n",
    "    MAX_ITER = 100\n",
    "    iterations = 0\n",
    "    for ind in range(0,len(listOfNodeNumbers)):\n",
    "        nodeNumber = listOfNodeNumbers[ind]\n",
    "        latitude = Map[nodeNumber][0]\n",
    "        longitude = Map[nodeNumber][1]\n",
    "        node = HillNode(latitude, longitude, nodeNumber, pathCost, prevNode, AdjHash)\n",
    "        if(ind<len(listOfNodeNumbers)-1):\n",
    "            nextNodeNumber = listOfNodeNumbers[ind+1]\n",
    "        else:\n",
    "            nextNodeNumber = listOfNodeNumbers[0]\n",
    "        pathCost+= AdjHash[nodeNumber][nextNodeNumber];\n",
    "        Tour.append(node);\n",
    "        prevNode = node\n",
    "    changed=True\n",
    "#     print printTour(Tour);\n",
    "    while(iterations < MAX_ITER):\n",
    "        newTour, changed, pathCost = findNeighbour(Tour,AdjHash,pathCost)\n",
    "        if(changed):\n",
    "            Tour = copy.copy(newTour)\n",
    "#             printTour(Tour)\n",
    "        if(iterations >= MAX_ITER):\n",
    "            break\n",
    "        iterations+=1\n",
    "#     print printTour(Tour)\n",
    "#     print AdjHash\n",
    "    return CostTour(Tour, AdjHash), Tour\n",
    "        \n",
    "        \n",
    "        \n",
    "    \n",
    "    "
   ]
  },
  {
   "cell_type": "code",
   "execution_count": 17,
   "metadata": {
    "collapsed": false
   },
   "outputs": [
    {
     "name": "stdout",
     "output_type": "stream",
     "text": [
      "3.79085728212 3.1150689781 False\n",
      "2.86432094629 2.75205540519 False\n",
      "3.48078571446 3.5476047221 False\n",
      "2.87149103929 2.61021146585 False\n",
      "2.3916631047 2.3916631047 True\n",
      "1.61260088456 1.61260088456 True\n",
      "3.45113906988 3.51628921393 False\n",
      "2.82050382441 2.82050382441 True\n",
      "2.45436007348 2.1958206482 False\n",
      "2.37273066476 2.37273066476 True\n",
      "1.18423913436 1.18423913436 True\n",
      "3.12689767656 2.68966493377 False\n",
      "2.93236018237 3.07373945117 False\n",
      "2.41032498698 2.41032498698 True\n",
      "4.26413412256 3.88642125473 False\n",
      "2.51333480982 2.51333480982 True\n",
      "3.25097781358 3.42366399574 False\n",
      "1.86692155861 1.86692155861 True\n",
      "2.64588354809 2.61835775775 False\n",
      "1.61663062024 1.62054709788 False\n",
      "3.32375707355 3.11357528321 False\n",
      "2.00430381345 2.00430381345 True\n",
      "4.0923462088 3.47964278168 False\n",
      "3.10227277165 3.08734023625 False\n",
      "4.30748097505 3.74150418003 False\n",
      "1.17837566665 1.17837566665 True\n",
      "1.32888042899 1.32888042899 True\n",
      "2.86241073792 2.83594424887 False\n",
      "4.0437993607 2.94782921188 False\n",
      "3.1128256332 2.81549347082 False\n",
      "3.12593897386 2.80756545379 False\n",
      "4.20247447483 4.23953393955 False\n",
      "3.83707157124 2.5749975113 False\n",
      "3.1111791508 3.54172541256 False\n",
      "2.3237108333 2.3237108333 True\n",
      "4.82551431893 3.37739616588 False\n",
      "5.78951343333 4.70136137546 False\n",
      "3.38999458046 3.53659648949 False\n",
      "4.33500064609 3.54652468281 False\n",
      "1.58252591259 1.58252591259 True\n",
      "5.1675338012 3.25860276196 False\n",
      "3.80286938981 3.28863170407 False\n",
      "4.60798391542 4.30957705445 False\n",
      "2.67570473011 2.67570473011 True\n",
      "2.11038329914 2.08186273073 False\n",
      "3.60924376298 3.04633864703 False\n",
      "4.51233918366 3.35365578388 False\n",
      "4.09262127652 3.08220284531 False\n",
      "3.60780772232 3.28329021472 False\n",
      "1.80770239193 1.80770239193 True\n",
      "3.38087048595 3.18293303121 False\n",
      "1.82008888531 1.82008888531 True\n",
      "2.78112287576 2.69901799068 False\n",
      "4.73600387037 3.07819100211 False\n",
      "4.91656912749 4.20620414671 False\n",
      "2.82497553188 2.82497553188 True\n",
      "2.86874946666 2.47243308126 False\n",
      "2.53042611077 2.39819915788 False\n",
      "2.6703859557 3.1828479361 False\n",
      "4.25628474485 3.28914452035 False\n",
      "3.71567498349 3.46152560852 False\n",
      "3.4538785538 3.12477600844 False\n",
      "2.51826314239 2.51826314239 True\n",
      "4.99049632275 3.79756679189 False\n",
      "3.12488865557 3.12601926574 False\n",
      "3.51538657393 3.1982465907 False\n",
      "3.4556509079 3.35434903443 False\n",
      "3.4071553619 3.31896996036 False\n",
      "2.00199639972 2.00199639972 True\n",
      "3.66790328261 3.26535657959 False\n",
      "1.84592868278 1.84592868278 True\n",
      "4.29258118476 3.67386858653 False\n",
      "4.09814790397 3.31744026332 False\n",
      "2.72474638866 2.67863925929 False\n",
      "4.06195845986 3.42002600241 False\n",
      "2.49107610698 2.41962808093 False\n",
      "2.25967728857 2.25967728857 True\n",
      "2.56361836775 2.56361836775 True\n",
      "2.08287395846 2.08287395846 True\n",
      "2.23436069727 2.39459441305 False\n",
      "2.8474851869 2.58488413903 False\n",
      "3.85815241671 3.60293257689 False\n",
      "4.02599699701 4.04522499886 False\n",
      "4.97953183535 3.18018914321 False\n",
      "1.76848939988 1.76848939988 True\n",
      "4.26327236916 3.9423912096 False\n",
      "3.30642756166 3.04290357324 False\n",
      "3.01604362159 2.81660185156 False\n",
      "3.92666727193 3.593592164 False\n",
      "3.04121873129 3.31475039109 False\n",
      "4.34204550927 3.18105547363 False\n",
      "2.38544873879 2.46970278879 False\n",
      "2.35294511713 2.35294511713 True\n",
      "2.95863693181 2.63220658569 False\n",
      "3.23167991986 3.46763004681 False\n",
      "2.41892212365 2.40299074987 False\n",
      "3.58039050966 2.8287442176 False\n",
      "3.99918104645 3.50969610726 False\n",
      "1.67520482187 1.67520482187 True\n",
      "3.07563588771 3.08522935874 False\n",
      "Hill Climbing Failed to Find Similar Solutions in 74 cases out of 100\n"
     ]
    }
   ],
   "source": [
    "# http://stackoverflow.com/questions/5595425/what-is-the-best-way-to-compare-floats-for-almost-equality-in-python\n",
    "def isclose(a, b, rel_tol=1e-09, abs_tol=0.0):\n",
    "    return abs(a-b) <= max(rel_tol * max(abs(a), abs(b)), abs_tol)\n",
    "\n",
    "HillClimbingTotalCosts = []\n",
    "failedFindingOptimalSolutionInHillClimbing = 0\n",
    "for i in range(0,100):\n",
    "    Map = MapsUsed[i]\n",
    "    inverseMap = inverseMapsUsed[i]\n",
    "    AdjHash = AdjHashUsed[i]\n",
    "    startNode = 0\n",
    "    nodes = Map.keys()\n",
    "    hcCost, Tour = HillClimbing(startNode, AdjHash, nodes, Map)\n",
    "    HillClimbingTotalCosts.append(hcCost)\n",
    "    print HillClimbingTotalCosts[i], TotalCosts[i], isclose(TotalCosts[i], HillClimbingTotalCosts[i])\n",
    "    if(not isclose(TotalCosts[i], HillClimbingTotalCosts[i])):\n",
    "#         if(TotalCosts[i]>HillClimbingTotalCosts[i]):\n",
    "#             print AdjHash, printTour(Tour), PathsTraversed[i]\n",
    "#         print TotalCosts[i], HillClimbingTotalCosts[i]\n",
    "#         assert TotalCosts[i]<HillClimbingTotalCosts[i]\n",
    "        failedFindingOptimalSolutionInHillClimbing+=1;\n",
    "print \"Hill Climbing Failed to Find Similar Solutions in %d cases out of 100\" %(failedFindingOptimalSolutionInHillClimbing)\n"
   ]
  },
  {
   "cell_type": "markdown",
   "metadata": {},
   "source": [
    "Propose an inadmissible heuristic for the TSP problem and compare the performance of A* (number of nodes expanded and solution quality) with the inadmissible heuristic versus the admissible one.\n"
   ]
  },
  {
   "cell_type": "code",
   "execution_count": 18,
   "metadata": {
    "collapsed": false,
    "scrolled": true
   },
   "outputs": [
    {
     "name": "stdout",
     "output_type": "stream",
     "text": [
      "Expanding Node : 0 and nodes visited {}\n",
      "Expanding Node : 3 and nodes visited {0: True}\n",
      "Expanding Node : 8 and nodes visited {0: True, 3: True}\n",
      "Expanding Node : 6 and nodes visited {0: True, 8: True, 3: True}\n",
      "Expanding Node : 4 and nodes visited {0: True, 8: True, 3: True, 6: True}\n",
      "Expanding Node : 2 and nodes visited {0: True, 8: True, 3: True, 4: True, 6: True}\n",
      "Expanding Node : 9 and nodes visited {0: True, 2: True, 3: True, 4: True, 6: True, 8: True}\n",
      "Expanding Node : 5 and nodes visited {0: True, 2: True, 3: True, 4: True, 6: True, 8: True, 9: True}\n",
      "Expanding Node : 1 and nodes visited {0: True, 2: True, 3: True, 4: True, 5: True, 6: True, 8: True, 9: True}\n",
      " ******* reached Goal State ******* \n",
      " Nodes Reached by Goal State of node number 7 is {0: True, 1: True, 2: True, 3: True, 4: True, 5: True, 6: True, 8: True, 9: True}\n",
      " ******* ****************** ******* \n",
      "{frozenset([7]): 0, frozenset([1, 2, 3, 4, 5, 6, 7, 8, 9]): 40.08291411650744, frozenset([1, 2, 4, 5, 6, 7, 9]): 31.662390526356816, frozenset([1, 2, 7, 5, 9]): 24.235755685067986, frozenset([1, 5, 7]): 9.901028507990503, frozenset([1, 7]): 1.0928305902808, frozenset([1, 7, 5, 9]): 17.651122436513624, frozenset([1, 2, 4, 5, 6, 7, 8, 9]): 35.714267793884204, frozenset([1, 2, 4, 5, 7, 9]): 27.997385808955386, frozenset([0, 1, 2, 3, 4, 5, 6, 7, 8, 9]): 51.30613315645018}\n",
      "3.13984675702\n"
     ]
    }
   ],
   "source": [
    "# An inadmissible Heurisitic could be 10 Times the Minimum Spanning Tree because it is an overestimate of the true cost to reaching the solution\n",
    "def InadmissibleMSTHeuristic(startNode, nodes, AdjHash):\n",
    "#     print \"COMPUTING INADMISSIBLE HEURISTIC\"\n",
    "    return 10*MSTHeuristic(startNode, nodes, AdjHash)\n",
    "\n",
    "\n",
    "bestFinalNode, TotalCost, noOfNodesExpanded, noOfNodesGenerated = solveAstar(startNode, AdjHash, nodes, Map, InadmissibleMSTHeuristic, True)\n",
    "print TotalCost"
   ]
  },
  {
   "cell_type": "code",
   "execution_count": 19,
   "metadata": {
    "collapsed": false
   },
   "outputs": [],
   "source": [
    "InAdmissibleHeuristictime_taken = []\n",
    "InAdmissibleHeuristicnodes_expanded = []\n",
    "InAdmissibleHeuristicnodes_generated = []\n",
    "InAdmissibleHeuristicTotalCosts = []\n",
    "\n",
    "for i in range(0,100):\n",
    "    Map = MapsUsed[i]\n",
    "    inverseMap = inverseMapsUsed[i]\n",
    "    AdjHash = AdjHashUsed[i]\n",
    "#     print Map\n",
    "#     print inverseMap\n",
    "#     print AdjHash\n",
    "    startNode = 0\n",
    "#     print \"###### STARTED #######\"\n",
    "#     print Map\n",
    "    nodes = Map.keys()\n",
    "    start_time = timeit.default_timer()\n",
    "    bestFinalNode, TotalCost, noOfNodesExpanded, noOfNodesGenerated = solveAstar(startNode, AdjHash, nodes, Map, InadmissibleMSTHeuristic, False)\n",
    "    elapsed = timeit.default_timer() - start_time\n",
    "    InAdmissibleHeuristicnodes_generated.append(noOfNodesGenerated)\n",
    "    InAdmissibleHeuristicnodes_expanded.append(noOfNodesExpanded)\n",
    "    InAdmissibleHeuristictime_taken.append(elapsed)\n",
    "    InAdmissibleHeuristicTotalCosts.append(TotalCost)\n"
   ]
  },
  {
   "cell_type": "code",
   "execution_count": 20,
   "metadata": {
    "collapsed": false
   },
   "outputs": [
    {
     "data": {
      "text/plain": [
       "<matplotlib.collections.PathCollection at 0x10623e810>"
      ]
     },
     "execution_count": 20,
     "metadata": {},
     "output_type": "execute_result"
    },
    {
     "data": {
      "image/png": "[encoded data removed]",
      "text/plain": [
       "<matplotlib.figure.Figure at 0x105adb890>"
      ]
     },
     "metadata": {},
     "output_type": "display_data"
    }
   ],
   "source": [
    "# plot\n",
    "plt.xlabel('Number of Cities')\n",
    "plt.ylabel('Time in Seconds For Inadmissible Heuristic')\n",
    "plt.scatter(nodes_size,InAdmissibleHeuristictime_taken)"
   ]
  },
  {
   "cell_type": "code",
   "execution_count": 21,
   "metadata": {
    "collapsed": false
   },
   "outputs": [
    {
     "name": "stdout",
     "output_type": "stream",
     "text": [
      "3.1150689781 3.1150689781 True\n",
      "2.86432094629 2.75205540519 False\n",
      "4.06515309858 3.5476047221 False\n",
      "2.61021146585 2.61021146585 True\n",
      "2.3916631047 2.3916631047 True\n",
      "1.61260088456 1.61260088456 True\n",
      "4.0272460561 3.51628921393 False\n",
      "2.82050382441 2.82050382441 True\n",
      "2.1958206482 2.1958206482 True\n",
      "2.37273066476 2.37273066476 True\n",
      "1.18423913436 1.18423913436 True\n",
      "2.68966493377 2.68966493377 True\n",
      "3.44977723831 3.07373945117 False\n",
      "2.49480619687 2.41032498698 False\n",
      "4.62381509288 3.88642125473 False\n",
      "2.79412996511 2.51333480982 False\n",
      "2.70690428273 3.42366399574 False\n",
      "1.92647839602 1.86692155861 False\n",
      "2.61835775775 2.61835775775 True\n",
      "1.70188346559 1.62054709788 False\n",
      "3.11357528321 3.11357528321 True\n",
      "2.01725453148 2.00430381345 False\n",
      "3.66412263502 3.47964278168 False\n",
      "3.12152856146 3.08734023625 False\n",
      "3.74150418003 3.74150418003 True\n",
      "1.21131790236 1.17837566665 False\n",
      "1.32888042899 1.32888042899 True\n",
      "3.13048841439 2.83594424887 False\n",
      "2.94782921188 2.94782921188 True\n",
      "2.86969202599 2.81549347082 False\n",
      "3.97201847453 2.80756545379 False\n",
      "4.79970268328 4.23953393955 False\n",
      "2.5749975113 2.5749975113 True\n",
      "3.54172541256 3.54172541256 True\n",
      "2.41591209731 2.3237108333 False\n",
      "3.37739616588 3.37739616588 True\n",
      "4.98440301376 4.70136137546 False\n",
      "3.54449197445 3.53659648949 False\n",
      "3.71474900119 3.54652468281 False\n",
      "1.71807054682 1.58252591259 False\n",
      "3.25860276196 3.25860276196 True\n",
      "3.57406265793 3.28863170407 False\n",
      "4.34500733611 4.30957705445 False\n",
      "2.7194396696 2.67570473011 False\n",
      "2.08186273073 2.08186273073 True\n",
      "3.04633864703 3.04633864703 True\n",
      "3.35365578388 3.35365578388 True\n",
      "3.75372215305 3.08220284531 False\n",
      "3.52478805418 3.28329021472 False\n",
      "1.80770239193 1.80770239193 True\n",
      "3.88866513182 3.18293303121 False\n",
      "1.82008888531 1.82008888531 True\n",
      "2.69901799068 2.69901799068 True\n",
      "3.96156881145 3.07819100211 False\n",
      "4.21265490967 4.20620414671 False\n",
      "3.10896828686 2.82497553188 False\n",
      "3.38682286589 2.47243308126 False\n",
      "2.58051818914 2.39819915788 False\n",
      "3.1828479361 3.1828479361 True\n",
      "3.37206131984 3.28914452035 False\n",
      "3.62012900097 3.46152560852 False\n",
      "3.12477600844 3.12477600844 True\n",
      "2.51826314239 2.51826314239 True\n",
      "4.0328386351 3.79756679189 False\n",
      "3.18061104421 3.12601926574 False\n",
      "3.1982465907 3.1982465907 True\n",
      "3.35434903443 3.35434903443 True\n",
      "3.31896996036 3.31896996036 True\n",
      "2.00199639972 2.00199639972 True\n",
      "3.26535657959 3.26535657959 True\n",
      "1.84592868278 1.84592868278 True\n",
      "3.67386858653 3.67386858653 True\n",
      "3.31744026332 3.31744026332 True\n",
      "2.67863925929 2.67863925929 True\n",
      "3.42002600241 3.42002600241 True\n",
      "2.56837890562 2.41962808093 False\n",
      "2.25967728857 2.25967728857 True\n",
      "2.64459105109 2.56361836775 False\n",
      "2.08287395846 2.08287395846 True\n",
      "2.54237489475 2.39459441305 False\n",
      "2.58488413903 2.58488413903 True\n",
      "3.60293257689 3.60293257689 True\n",
      "4.24059410641 4.04522499886 False\n",
      "3.18018914321 3.18018914321 True\n",
      "1.76848939988 1.76848939988 True\n",
      "4.21373509666 3.9423912096 False\n",
      "3.04290357324 3.04290357324 True\n",
      "2.90741359629 2.81660185156 False\n",
      "3.593592164 3.593592164 True\n",
      "3.31475039109 3.31475039109 True\n",
      "3.45082927362 3.18105547363 False\n",
      "2.89120338308 2.46970278879 False\n",
      "2.35294511713 2.35294511713 True\n",
      "2.63220658569 2.63220658569 True\n",
      "3.6540208968 3.46763004681 False\n",
      "2.50223230414 2.40299074987 False\n",
      "2.8287442176 2.8287442176 True\n",
      "3.50969610726 3.50969610726 True\n",
      "1.67520482187 1.67520482187 True\n",
      "3.13984675702 3.08522935874 False\n",
      "THE INADMISSIBLE HEURISTIC WAS UNABLE TO FIND SIMILAR SOLUTION IN 49 CASES OUT OF 100\n"
     ]
    }
   ],
   "source": [
    "\n",
    "FailedToFindOptimalSolutions = 0\n",
    "for i in range(0,100):\n",
    "    print InAdmissibleHeuristicTotalCosts[i], TotalCosts[i], isclose(TotalCosts[i],InAdmissibleHeuristicTotalCosts[i])\n",
    "    if(not isclose(TotalCosts[i],InAdmissibleHeuristicTotalCosts[i])):\n",
    "#         assert TotalCosts[i] < InAdmissibleHeuristicTotalCosts[i]\n",
    "        FailedToFindOptimalSolutions+=1;\n",
    "\n",
    "print \"THE INADMISSIBLE HEURISTIC WAS UNABLE TO FIND SIMILAR SOLUTION IN %d CASES OUT OF 100\" %(FailedToFindOptimalSolutions)"
   ]
  },
  {
   "cell_type": "code",
   "execution_count": 22,
   "metadata": {
    "collapsed": false
   },
   "outputs": [
    {
     "data": {
      "text/plain": [
       "<matplotlib.collections.PathCollection at 0x106405dd0>"
      ]
     },
     "execution_count": 22,
     "metadata": {},
     "output_type": "execute_result"
    },
    {
     "data": {
      "image/png": "[encoded data removed]",
      "text/plain": [
       "<matplotlib.figure.Figure at 0x105abae50>"
      ]
     },
     "metadata": {},
     "output_type": "display_data"
    }
   ],
   "source": [
    "# plot\n",
    "plt.xlabel('Number of Cities')\n",
    "plt.ylabel('Nodes Expanded For Inadmissible Heuristic')\n",
    "plt.scatter(nodes_size,InAdmissibleHeuristicnodes_expanded)\n"
   ]
  },
  {
   "cell_type": "code",
   "execution_count": 23,
   "metadata": {
    "collapsed": false
   },
   "outputs": [
    {
     "data": {
      "text/plain": [
       "<matplotlib.collections.PathCollection at 0x10651f050>"
      ]
     },
     "execution_count": 23,
     "metadata": {},
     "output_type": "execute_result"
    },
    {
     "data": {
      "image/png": "[encoded data removed]",
      "text/plain": [
       "<matplotlib.figure.Figure at 0x1063b7490>"
      ]
     },
     "metadata": {},
     "output_type": "display_data"
    }
   ],
   "source": [
    "# plot\n",
    "plt.xlabel('Number of Cities')\n",
    "plt.ylabel('Nodes Generated For Inadmissible Heuristic')\n",
    "plt.scatter(nodes_size,InAdmissibleHeuristicnodes_generated)\n"
   ]
  }
 ],
 "metadata": {
  "anaconda-cloud": {},
  "kernelspec": {
   "display_name": "Python [Root]",
   "language": "python",
   "name": "Python [Root]"
  },
  "language_info": {
   "codemirror_mode": {
    "name": "ipython",
    "version": 2
   },
   "file_extension": ".py",
   "mimetype": "text/x-python",
   "name": "python",
   "nbconvert_exporter": "python",
   "pygments_lexer": "ipython2",
   "version": "2.7.12"
  }
 },
 "nbformat": 4,
 "nbformat_minor": 0
}
