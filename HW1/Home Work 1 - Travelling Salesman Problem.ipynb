{
 "cells": [
  {
   "cell_type": "code",
   "execution_count": 6,
   "metadata": {
    "collapsed": true
   },
   "outputs": [],
   "source": [
    "import random\n",
    "def TspGenerator(numberOfCities, lowRange=0.0, highRange=1.0):\n",
    "    Map = {}\n",
    "    inverseMap = {}\n",
    "    for x in range(0, numberOfCities):\n",
    "        coordinate = (random.uniform(lowRange, highRange), random.uniform(lowRange, highRange))\n",
    "        tries = 0;\n",
    "        while(coordinate in inverseMap):\n",
    "            coordinate = (random.uniform(lowRange, highRange), random.uniform(lowRange, highRange))\n",
    "            tries+=1;\n",
    "            if(tries==5):\n",
    "                print \"Unable to Generate Coordinates\"\n",
    "                return ;\n",
    "        Map[x] = coordinate\n",
    "        inverseMap[coordinate] = x\n",
    "    return Map, inverseMap;\n",
    "        "
   ]
  },
  {
   "cell_type": "code",
   "execution_count": 7,
   "metadata": {
    "collapsed": false
   },
   "outputs": [
    {
     "data": {
      "text/plain": [
       "({0: (0.13037375991631983, 0.17982980099790336),\n",
       "  1: (0.3681787915834571, 0.3113073091996347),\n",
       "  2: (0.12094815671249204, 0.2787893585765463),\n",
       "  3: (0.6975043215320674, 0.5539591586713575),\n",
       "  4: (0.018587773912273398, 0.9124808417705971)},\n",
       " {(0.018587773912273398, 0.9124808417705971): 4,\n",
       "  (0.12094815671249204, 0.2787893585765463): 2,\n",
       "  (0.13037375991631983, 0.17982980099790336): 0,\n",
       "  (0.3681787915834571, 0.3113073091996347): 1,\n",
       "  (0.6975043215320674, 0.5539591586713575): 3})"
      ]
     },
     "execution_count": 7,
     "metadata": {},
     "output_type": "execute_result"
    }
   ],
   "source": [
    "TspGenerator(5)"
   ]
  }
 ],
 "metadata": {
  "kernelspec": {
   "display_name": "Python [Root]",
   "language": "python",
   "name": "Python [Root]"
  },
  "language_info": {
   "codemirror_mode": {
    "name": "ipython",
    "version": 2
   },
   "file_extension": ".py",
   "mimetype": "text/x-python",
   "name": "python",
   "nbconvert_exporter": "python",
   "pygments_lexer": "ipython2",
   "version": "2.7.12"
  }
 },
 "nbformat": 4,
 "nbformat_minor": 0
}
