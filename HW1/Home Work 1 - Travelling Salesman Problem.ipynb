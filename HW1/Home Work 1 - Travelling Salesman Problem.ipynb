{
 "cells": [
  {
   "cell_type": "code",
   "execution_count": 1,
   "metadata": {
    "collapsed": false
   },
   "outputs": [],
   "source": [
    "import random\n",
    "import math\n",
    "import copy\n",
    "from heapq import heappush, heappop\n",
    "from collections import defaultdict\n",
    "def isSorted(nodes):\n",
    "    if(len(nodes)==0):\n",
    "        return True\n",
    "    for i in range(1,len(nodes)):\n",
    "        if(nodes[i-1] > nodes[i]):\n",
    "            return False\n",
    "    return True\n",
    "\n",
    "def EuclideanDistance(point1_x, point1_y, point2_x, point2_y):\n",
    "    internalCalculation = math.pow((point1_x - point2_x),2) + math.pow((point1_y - point2_y),2)\n",
    "    return math.sqrt(internalCalculation);\n",
    "\n",
    "#GEOM-norm\n",
    "M_PI = 3.14159265358979323846264\n",
    "\n",
    "def geom_edgelen(xi, xj, yi, yj):\n",
    "    lati = M_PI * xi / 180.0;\n",
    "    latj = M_PI * xj / 180.0;\n",
    "\n",
    "    longi = M_PI * yi / 180.0;\n",
    "    longj = M_PI * yj / 180.0;\n",
    "\n",
    "    q1 = math.cos (latj) * math.sin(longi - longj);\n",
    "    q3 = math.sin((longi - longj)/2.0);\n",
    "    q4 = math.cos((longi - longj)/2.0);\n",
    "    q2 = math.sin(lati + latj) * q3 * q3 - math.sin(lati - latj) * q4 * q4;\n",
    "    q5 = math.cos(lati - latj) * q4 * q4 - math.cos(lati + latj) * q3 * q3;\n",
    "    return (int) (6378388.0 * math.atan2(sqrt(q1*q1 + q2*q2), q5) + 1.0);\n",
    "\n",
    "def getDistanceBetweenNodes(node, otherNode, AdjHash, Map, DistanceComputation):\n",
    "    if(node == otherNode):\n",
    "        return 0;\n",
    "    if(otherNode in AdjHash and node in AdjHash[otherNode]):\n",
    "        return AdjHash[otherNode][node]\n",
    "    return DistanceComputation(Map[node][0], Map[node][1], Map[otherNode][0], Map[otherNode][1])\n",
    "\n",
    "def computeAdjHashOfCompleteGraph(Map, DistanceComputation):\n",
    "    # Input::  Map: {0: (0.13037375991631983, 0.17982980099790336), ... }\n",
    "    nodes = Map.keys()\n",
    "    assert isSorted(nodes)\n",
    "    AdjHash= {}\n",
    "    for node in nodes:\n",
    "        AdjHash[node] = {}\n",
    "        for otherNode in nodes:\n",
    "            AdjHash[node][otherNode] = getDistanceBetweenNodes(node, otherNode, AdjHash, Map, DistanceComputation)\n",
    "    return AdjHash\n",
    "\n",
    "def TspGenerator(numberOfCities, lowRange=0.0, highRange=1.0, DistanceComputation=EuclideanDistance):\n",
    "    Map = {}\n",
    "    inverseMap = {}\n",
    "    AdjHash = {}\n",
    "    for x in range(0, numberOfCities):\n",
    "        coordinate = (random.uniform(lowRange, highRange), random.uniform(lowRange, highRange))\n",
    "        tries = 0;\n",
    "        while(coordinate in inverseMap):\n",
    "            coordinate = (random.uniform(lowRange, highRange), random.uniform(lowRange, highRange))\n",
    "            tries+=1;\n",
    "            if(tries==5):\n",
    "                print \"Unable to Generate Coordinates\"\n",
    "                return ;\n",
    "        Map[x] = coordinate\n",
    "        inverseMap[coordinate] = x\n",
    "    return Map, inverseMap, computeAdjHashOfCompleteGraph(Map, DistanceComputation);"
   ]
  },
  {
   "cell_type": "code",
   "execution_count": 5,
   "metadata": {
    "collapsed": false
   },
   "outputs": [],
   "source": [
    "def isAllVisited(VisitedHash, nodes):\n",
    "    for node in nodes:\n",
    "        if(node not in VisitedHash):\n",
    "            return False\n",
    "    return True\n",
    "\n",
    "def PrimsAlgorithm(startNode, nodes, AdjHash):\n",
    "    #Input startNode : type int, nodes : type list of int's\n",
    "    MSTCost = 0;\n",
    "    h = []\n",
    "    visitedHash = {}\n",
    "    visitedHash[startNode] = True\n",
    "    prevNode = startNode\n",
    "    MstEdges = []\n",
    "    while(not isAllVisited(visitedHash, nodes)):\n",
    "        for node in nodes:\n",
    "            if(node not in visitedHash.keys()):\n",
    "                heappush(h, (AdjHash[prevNode][node], (prevNode, node)))\n",
    "        cost, edge = heappop(h)\n",
    "        parentNode, minNode = edge\n",
    "        while(minNode in visitedHash):\n",
    "            # if min node was alreadyVisited\n",
    "            cost, edge = heappop(h)\n",
    "            parentNode, minNode = edge\n",
    "        MSTCost += cost\n",
    "        MstEdges.append((parentNode, minNode))\n",
    "        visitedHash[minNode] = True\n",
    "    return MSTCost, MstEdges;\n",
    "\n",
    "def MSTHeuristic(startNode, nodes, AdjHash):\n",
    "    #Input :: AdjHash is a Adjacency map of the entire set of nodes with the value being the distance\n",
    "    assert startNode in nodes;\n",
    "    cost, edges = PrimsAlgorithm(startNode, nodes, AdjHash)\n",
    "    return cost;\n",
    "    \n",
    "    \n",
    "class TspNode:\n",
    "    def __init__(self, x, y, nodeNumber, path_cost, heuristicCost, parentNode):\n",
    "        self.pos_x = x\n",
    "        self.pos_y = y\n",
    "        self.node_number = nodeNumber\n",
    "        self.h_cost = heuristicCost\n",
    "        self.g_cost = path_cost\n",
    "        self.f_cost = self.g_cost + self.h_cost\n",
    "        self.parent = parentNode\n",
    "\n",
    "def goalTest(node, listOfNodeNumbers):\n",
    "    return isHamiltonianCycle(node, listOfNodeNumbers)\n",
    "\n",
    "def appendToFrontier(newNode, Frontier):\n",
    "    if(newNode.f_cost in Frontier):\n",
    "        Frontier[newNode.f_cost].append(newNode)\n",
    "    else:\n",
    "        Frontier[newNode.f_cost] = [newNode]\n",
    "\n",
    "def printPathTraversed(node):\n",
    "    pathTraversed = []\n",
    "    while(node.parent!=-1):\n",
    "        pathTraversed.append(node.node_number)\n",
    "        node=node.parent\n",
    "    pathTraversed.append(node.node_number)\n",
    "    return pathTraversed\n",
    "    \n",
    "def isHamiltonianCycle(node, listOfNodeNumbers):\n",
    "    pathTraversed = [node.node_number]\n",
    "    visited = {}\n",
    "    while(node.parent!=-1):\n",
    "        pathTraversed.append(node.node_number)\n",
    "        visited[node.node_number] = True\n",
    "        node = node.parent\n",
    "    pathTraversed.append(node.node_number)\n",
    "    visited[node.node_number] = True\n",
    "    # Check if ALL NODES are visited\n",
    "    for nodeNumber in listOfNodeNumbers:\n",
    "        if nodeNumber not in visited:\n",
    "            return False\n",
    "    # Check if cycle is present\n",
    "    if(pathTraversed[0] == pathTraversed[len(pathTraversed)-1]):\n",
    "        return True\n",
    "    return False;\n",
    "\n",
    "def remove_empty_keys(d):\n",
    "    for k in d.keys():\n",
    "        if not d[k]:\n",
    "            del d[k]\n",
    "\n",
    "def popMinNode(Frontier):\n",
    "#     remove_empty_keys(Frontier)\n",
    "#     if(len(Frontier)==0):\n",
    "#         return None\n",
    "    m = min(i for i in Frontier.keys() if len(Frontier[i]) > 0)\n",
    "    minNode = Frontier[m].pop(0)\n",
    "    return minNode;\n",
    "    \n",
    "def edge(node):\n",
    "    if(node.parent==-1):\n",
    "        pNumber = -1\n",
    "    else:\n",
    "        pNumber = node.parent.node_number\n",
    "    return (pNumber, node.node_number)\n",
    "    \n",
    "def hasTraversedPreviously(newEdge, bestNode):\n",
    "    if(newEdge in bestNode.edges_Traversed):\n",
    "        return True\n",
    "    return False\n",
    "\n",
    "def findBestNode(Frontier):\n",
    "    bestNode = popMinNode(Frontier)\n",
    "#     if(bestNode == None):\n",
    "#         return None\n",
    "#     print bestNode.edges_Traversed\n",
    "#     print edge(bestNode)\n",
    "    while((hasTraversedPreviously(edge(bestNode), bestNode))):\n",
    "        bestNode = popMinNode(Frontier)\n",
    "#         if(bestNode == None):\n",
    "#             return None\n",
    "    bestNode.edges_Traversed[edge(bestNode)] = True\n",
    "    return bestNode\n",
    "        \n",
    "def checkIfFCostIsGreaterThanBestFinalNode(bestFinalNode, node):\n",
    "    if(bestFinalNode.f_cost <= node.f_cost):\n",
    "        return False\n",
    "    return True\n",
    "\n",
    "def checkNoOtherBetterNodeToExpand(Frontier, finalNode):\n",
    "    bestNodeToExpand = findBestNode(Frontier)\n",
    "    return checkIfFCostIsGreaterThanBestFinalNode(finalNode, bestNodeToExpand)\n",
    "\n",
    "def appendToFrontier(newNode, Frontier):\n",
    "    if(newNode.f_cost in Frontier):\n",
    "        Frontier[newNode.f_cost].append(newNode)\n",
    "    else:\n",
    "        Frontier[newNode.f_cost] = [newNode]\n",
    "\n",
    "def expandNode(Node, Frontier, AdjHash, listOfNodeNumbers, Map, heuristicCost):\n",
    "#     print listOfNodeNumbers\n",
    "    for nodeNumber in listOfNodeNumbers:\n",
    "        if(nodeNumber != Node.node_number):\n",
    "            latitude = Map[nodeNumber][0]\n",
    "            longitude = Map[nodeNumber][1]\n",
    "#             print \"Expanding node number %d %d\" %(Node.node_number, nodeNumber)\n",
    "            tspNode = TspNode(latitude, longitude, nodeNumber, Node.g_cost+AdjHash[Node.node_number][nodeNumber], heuristicCost, Node)\n",
    "            tspNode.edges_Traversed = copy.copy(Node.edges_Traversed)\n",
    "            appendToFrontier(tspNode, Frontier)\n",
    "#             print Frontier\n",
    "    return ;\n",
    "    \n",
    "def solveAstar(startNode, AdjHash, listOfNodeNumbers, Map, heuristicCost):\n",
    "    #Input startNode : type int, listOfNodeNumbers : type list of int's\n",
    "    latitude = Map[startNode][0]\n",
    "    longitude = Map[startNode][1]\n",
    "    sNode = TspNode(latitude, longitude, startNode, 0, heuristicCost, -1)\n",
    "    sNode.edges_Traversed = {}\n",
    "    Frontier = defaultdict(list)\n",
    "    Frontier[sNode.f_cost] = [sNode]\n",
    "    isCompleted = False\n",
    "    bestFinalNode = None\n",
    "    FoundCostToFinal = False;\n",
    "    noOfNodesExpanded = 0\n",
    "    VisitedEdgeHashSet = {}\n",
    "    \n",
    "    while(len(Frontier)!=0 or isCompleted):\n",
    "        bestNode = findBestNode(Frontier)\n",
    "        if(bestNode.h_cost>heuristicCost):\n",
    "            return \"Unable to solve\";\n",
    "        if(bestNode.g_cost <= heuristicCost):\n",
    "            isNodeGoalState = goalTest(bestNode, listOfNodeNumbers)\n",
    "            if(FoundCostToFinal):\n",
    "                if(not checkIfFCostIsGreaterThanBestFinalNode(bestFinalNode, bestNode)):\n",
    "                    break\n",
    "            if(isNodeGoalState):\n",
    "                if(not FoundCostToFinal):\n",
    "                    bestFinalNode = bestNode\n",
    "                    FoundCostToFinal = True\n",
    "                else:\n",
    "                    if(bestFinalNode.g_cost > bestNode.g_cost):\n",
    "                        bestFinalNode=bestNode\n",
    "            if(isNodeGoalState and checkNoOtherBetterNodeToExpand(Frontier, bestNode)):\n",
    "                isCompleted = True\n",
    "                break\n",
    "            visitingEdge = edge(bestNode)\n",
    "#             print \"Expanding Node Number %d with co-ordinates (%s,%s) and visiting edge (%d, %d) and \" %(bestNode.node_number, bestNode.pos_x, bestNode.pos_y, visitingEdge[0], visitingEdge[1])\n",
    "#             print printPathTraversed(bestNode), bestNode.g_cost, bestNode.f_cost\n",
    "            noOfNodesExpanded+=1\n",
    "#             print Frontier\n",
    "            expandNode(bestNode, Frontier, AdjHash, listOfNodeNumbers, Map, heuristicCost)\n",
    "#             VisitedEdgeHashSet[visitingEdge] = True\n",
    "            \n",
    "        else:\n",
    "            break\n",
    "    return bestFinalNode, noOfNodesExpanded"
   ]
  },
  {
   "cell_type": "code",
   "execution_count": 11,
   "metadata": {
    "collapsed": false
   },
   "outputs": [],
   "source": [
    "Map, inverseMap, AdjHash = TspGenerator(7)\n",
    "nodes = Map.keys()"
   ]
  },
  {
   "cell_type": "code",
   "execution_count": 12,
   "metadata": {
    "collapsed": false
   },
   "outputs": [],
   "source": [
    "heuristicCost, EdgesMst = PrimsAlgorithm(0, nodes, AdjHash)\n",
    "heuristicCost *= 2;"
   ]
  },
  {
   "cell_type": "code",
   "execution_count": 14,
   "metadata": {
    "collapsed": false
   },
   "outputs": [
    {
     "data": {
      "text/plain": [
       "6.257410988898371"
      ]
     },
     "execution_count": 14,
     "metadata": {},
     "output_type": "execute_result"
    }
   ],
   "source": [
    "heuristicCost"
   ]
  },
  {
   "cell_type": "code",
   "execution_count": 15,
   "metadata": {
    "collapsed": false
   },
   "outputs": [],
   "source": [
    "startNode = 0\n",
    "bestFinalNode, noOfNodesExpanded = solveAstar(startNode, AdjHash, nodes, Map, heuristicCost)"
   ]
  },
  {
   "cell_type": "code",
   "execution_count": 10,
   "metadata": {
    "collapsed": false
   },
   "outputs": [
    {
     "data": {
      "text/plain": [
       "[0, 4, 3, 2, 1, 0]"
      ]
     },
     "execution_count": 10,
     "metadata": {},
     "output_type": "execute_result"
    }
   ],
   "source": [
    "printPathTraversed(bestFinalNode)"
   ]
  },
  {
   "cell_type": "code",
   "execution_count": 3,
   "metadata": {
    "collapsed": false
   },
   "outputs": [],
   "source": [
    "# Testing Prims Algorithm\n",
    "ExamplestartNode = 1\n",
    "Examplenodes = [1,2,3,4]\n",
    "ExampleAdjHash =  {\n",
    "    1:{ \n",
    "        1: 0,\n",
    "        2: 10,\n",
    "        3: 15,\n",
    "        4: 20\n",
    "      },\n",
    "    2:{ \n",
    "        1: 10,\n",
    "        2: 0,\n",
    "        3: 350,\n",
    "        4: 250\n",
    "      },\n",
    "    3:{ \n",
    "        1: 15,\n",
    "        2: 350,\n",
    "        3: 0,\n",
    "        4: 300\n",
    "      },\n",
    "    4:{ \n",
    "        1: 20,\n",
    "        2: 250,\n",
    "        3: 300,\n",
    "        4: 0\n",
    "      }\n",
    "}\n",
    "ExampleMap = {\n",
    "    1:(0,0),\n",
    "    2:(1,1),\n",
    "    3:(2,2),\n",
    "    4:(3,3)\n",
    "}\n",
    "ExampleheuristicCost, Edges = PrimsAlgorithm(ExamplestartNode, Examplenodes, ExampleAdjHash)\n",
    "ExampleheuristicCost *= 2"
   ]
  },
  {
   "cell_type": "code",
   "execution_count": 4,
   "metadata": {
    "collapsed": false
   },
   "outputs": [
    {
     "data": {
      "text/plain": [
       "90"
      ]
     },
     "execution_count": 4,
     "metadata": {},
     "output_type": "execute_result"
    }
   ],
   "source": [
    "ExampleheuristicCost"
   ]
  },
  {
   "cell_type": "code",
   "execution_count": 5,
   "metadata": {
    "collapsed": false
   },
   "outputs": [],
   "source": [
    "bestNode, noOfNodesExpanded = solveAstar(ExamplestartNode, ExampleAdjHash, Examplenodes, ExampleMap, ExampleheuristicCost)"
   ]
  },
  {
   "cell_type": "code",
   "execution_count": 6,
   "metadata": {
    "collapsed": false
   },
   "outputs": [
    {
     "name": "stdout",
     "output_type": "stream",
     "text": [
      "[1, 4, 1, 3, 1, 2, 1]\n",
      "26 90\n"
     ]
    }
   ],
   "source": [
    "print printPathTraversed(bestNode)\n",
    "print noOfNodesExpanded, bestNode.g_cost"
   ]
  },
  {
   "cell_type": "code",
   "execution_count": null,
   "metadata": {
    "collapsed": false
   },
   "outputs": [],
   "source": [
    "def getInputFromFile(fileName):\n",
    "    try:\n",
    "        Map = {}\n",
    "        inverseMap = {}\n",
    "        in_file = open(fileName, 'r')\n",
    "        lines = in_file.readlines()\n",
    "        for line in lines[7:len(lines)-1]:\n",
    "            data = line.split()\n",
    "            nodeNo = int(data[0])\n",
    "            latitude, longitude = float(data[1]), float(data[2])\n",
    "            coordinate = (latitude, longitude)\n",
    "            Map[nodeNo] = coordinate\n",
    "            inverseMap[coordinate] = nodeNo\n",
    "    finally:\n",
    "        in_file.close()\n",
    "    return Map, inverseMap, computeAdjHashOfCompleteGraph(Map, DistanceComputation=EuclideanDistance)\n"
   ]
  },
  {
   "cell_type": "code",
   "execution_count": null,
   "metadata": {
    "collapsed": false
   },
   "outputs": [],
   "source": [
    "WCityMap, WCityinverseMap, WCityAdjHash = getInputFromFile('wi29.tsp.txt')\n",
    "WCitystartNode = 1\n",
    "WCitynodes = WCityMap.keys()\n",
    "WCityheuristicCost, WCityEdges = PrimsAlgorithm(WCitystartNode, WCitynodes, WCityAdjHash)\n",
    "WCityheuristicCost *= 2\n"
   ]
  },
  {
   "cell_type": "code",
   "execution_count": null,
   "metadata": {
    "collapsed": false
   },
   "outputs": [],
   "source": [
    "WCityheuristicCost\n",
    "WCityMap"
   ]
  },
  {
   "cell_type": "code",
   "execution_count": null,
   "metadata": {
    "collapsed": false
   },
   "outputs": [],
   "source": [
    "#WCitybestNode, WCitynoOfNodesExpanded = solveAstar(WCitystartNode, WCityAdjHash, WCitynodes, WCityMap, WCityheuristicCost)"
   ]
  },
  {
   "cell_type": "code",
   "execution_count": null,
   "metadata": {
    "collapsed": false
   },
   "outputs": [],
   "source": [
    "def HillClimbing():\n",
    "    current ←Make-Node(Initial-State[problem])\n",
    "    loop do\n",
    "        neighbor←a highest-valued successor of current\n",
    "        if Value[neighbor] ≤ Value[current] then return State[current]\n",
    "        current ←neighbor\n",
    "    end"
   ]
  }
 ],
 "metadata": {
  "anaconda-cloud": {},
  "kernelspec": {
   "display_name": "Python [Root]",
   "language": "python",
   "name": "Python [Root]"
  },
  "language_info": {
   "codemirror_mode": {
    "name": "ipython",
    "version": 2
   },
   "file_extension": ".py",
   "mimetype": "text/x-python",
   "name": "python",
   "nbconvert_exporter": "python",
   "pygments_lexer": "ipython2",
   "version": "2.7.12"
  }
 },
 "nbformat": 4,
 "nbformat_minor": 0
}
