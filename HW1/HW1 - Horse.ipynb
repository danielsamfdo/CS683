{
 "cells": [
  {
   "cell_type": "code",
   "execution_count": 61,
   "metadata": {
    "collapsed": true
   },
   "outputs": [],
   "source": [
    "def heuristic(state_x, state_y, final_x, final_y):\n",
    "    if(abs(state_x - final_x) <= 2):\n",
    "        #print \"diff in x abs <= 2 \" \n",
    "        if(abs(state_y - final_y) <=2):\n",
    "            #print \"diff in y abs <= 2 \"\n",
    "            return 1;\n",
    "        else:\n",
    "            return 2;\n",
    "    else:\n",
    "        return 2;    "
   ]
  },
  {
   "cell_type": "code",
   "execution_count": 60,
   "metadata": {
    "collapsed": false
   },
   "outputs": [],
   "source": [
    "from collections import defaultdict;\n",
    "class HorseNode:\n",
    "    def __init__(self, x, y, final_x, final_y, path_cost):\n",
    "        self.pos_x = x\n",
    "        self.pos_y = y\n",
    "        self.h_cost = heuristic(x, y, final_x, final_y)\n",
    "        self.g_cost = path_cost\n",
    "        self.f_cost = self.g_cost + self.h_cost\n",
    "\n",
    "def appendToFrontier(newNode, Frontier):\n",
    "    if(newNode.f_cost in Frontier):\n",
    "        Frontier[newNode.f_cost].append(newNode)\n",
    "    else:\n",
    "        Frontier[newNode.f_cost] = [newNode]\n",
    "\n",
    "def expandNode(Node, Frontier, final_x, final_y, VisitedHashSet):\n",
    "    if((Node.pos_x+1, Node.pos_y+2) not in VisitedHashSet):\n",
    "        h1 = HorseNode(Node.pos_x+1, Node.pos_y+2, final_x, final_y, Node.g_cost+1)\n",
    "        appendToFrontier(h1, Frontier)\n",
    "    if((Node.pos_x+2, Node.pos_y+1) not in VisitedHashSet):\n",
    "        h2 = HorseNode(Node.pos_x+2, Node.pos_y+1, final_x, final_y, Node.g_cost+1)\n",
    "        appendToFrontier(h2, Frontier)\n",
    "    if((Node.pos_x+1, Node.pos_y-2) not in VisitedHashSet):\n",
    "        h3 = HorseNode(Node.pos_x+1, Node.pos_y-2, final_x, final_y, Node.g_cost+1)\n",
    "        appendToFrontier(h3, Frontier)\n",
    "    if((Node.pos_x+2, Node.pos_y-1) not in VisitedHashSet):\n",
    "        h4 = HorseNode(Node.pos_x+2, Node.pos_y-1, final_x, final_y, Node.g_cost+1)\n",
    "        appendToFrontier(h4, Frontier)\n",
    "    if((Node.pos_x-1, Node.pos_y+2) not in VisitedHashSet):\n",
    "        h5 = HorseNode(Node.pos_x-1, Node.pos_y+2, final_x, final_y, Node.g_cost+1)\n",
    "        appendToFrontier(h5, Frontier)\n",
    "    if((Node.pos_x-2, Node.pos_y+1) not in VisitedHashSet):\n",
    "        h6 = HorseNode(Node.pos_x-2, Node.pos_y+1, final_x, final_y, Node.g_cost+1)\n",
    "        appendToFrontier(h6, Frontier)\n",
    "    if((Node.pos_x-1, Node.pos_y-2) not in VisitedHashSet):\n",
    "        h7 = HorseNode(Node.pos_x-1, Node.pos_y-2, final_x, final_y, Node.g_cost+1)\n",
    "        appendToFrontier(h7, Frontier)\n",
    "    if((Node.pos_x-2, Node.pos_y-1) not in VisitedHashSet):\n",
    "        h8 = HorseNode(Node.pos_x-2, Node.pos_y-1, final_x, final_y, Node.g_cost+1)\n",
    "        appendToFrontier(h8, Frontier)\n",
    "    \n",
    "def popMinNode(Frontier):\n",
    "    m = min(i for i in Frontier.keys() if len(Frontier[i]) > 0)\n",
    "    minNode = Frontier[m].pop(0)\n",
    "    return minNode;\n",
    "    \n",
    "def findBestNode(Frontier, VisitedHashSet):\n",
    "    bestNode = popMinNode(Frontier)\n",
    "    tries = 0\n",
    "    while(((bestNode.pos_x,bestNode.pos_y) in VisitedHashSet)):\n",
    "        tries+=1\n",
    "        bestNode = popMinNode(Frontier)\n",
    "        if(tries==5):\n",
    "            print \"ERROR Unable to find best Node\"\n",
    "            break;\n",
    "    #print \"minimum F Cost is :: \" + str(bestNode.f_cost)\n",
    "    return bestNode\n",
    "\n",
    "def solveAstar(start_x, start_y, final_x, final_y):\n",
    "    sNode = HorseNode(start_x, start_y, final_x, final_y, 0)\n",
    "    HashSet = {(start_x,start_y): 1}\n",
    "    Frontier = defaultdict(list)\n",
    "    Frontier[0] = [sNode]\n",
    "    isFound = False\n",
    "    VisitedHashSet = {}\n",
    "    while(len(Frontier)!=0 or isFound):\n",
    "        bestNode = findBestNode(Frontier, VisitedHashSet)\n",
    "        if(bestNode.pos_x == final_x and bestNode.pos_y == final_y):\n",
    "            isFound = True\n",
    "            return bestNode.g_cost\n",
    "        VisitedHashSet[(bestNode.pos_x, bestNode.pos_y)] = 1\n",
    "        print \"Expanding Node with co-ordinates (%s,%s) \" %(bestNode.pos_x, bestNode.pos_y)\n",
    "        expandNode(bestNode, Frontier, final_x, final_y, VisitedHashSet)"
   ]
  },
  {
   "cell_type": "code",
   "execution_count": 59,
   "metadata": {
    "collapsed": false
   },
   "outputs": [
    {
     "name": "stdout",
     "output_type": "stream",
     "text": [
      "Expanding Node with co-ordinates (-1,-3) \n",
      "Expanding Node with co-ordinates (0,-1) \n",
      "Expanding Node with co-ordinates (1,-2) \n",
      "Expanding Node with co-ordinates (0,-5) \n",
      "Expanding Node with co-ordinates (1,-4) \n",
      "Expanding Node with co-ordinates (-2,-1) \n",
      "Expanding Node with co-ordinates (-3,-2) \n",
      "Expanding Node with co-ordinates (-2,-5) \n",
      "Expanding Node with co-ordinates (-3,-4) \n",
      "Minimum Number of Moves are 2\n"
     ]
    }
   ],
   "source": [
    "minMoves = solveAstar(-1, -3, 1, 1)\n",
    "print \"Minimum Number of Moves are %d\" %(minMoves)"
   ]
  }
 ],
 "metadata": {
  "anaconda-cloud": {},
  "kernelspec": {
   "display_name": "Python [Root]",
   "language": "python",
   "name": "Python [Root]"
  },
  "language_info": {
   "codemirror_mode": {
    "name": "ipython",
    "version": 2
   },
   "file_extension": ".py",
   "mimetype": "text/x-python",
   "name": "python",
   "nbconvert_exporter": "python",
   "pygments_lexer": "ipython2",
   "version": "2.7.12"
  }
 },
 "nbformat": 4,
 "nbformat_minor": 0
}
