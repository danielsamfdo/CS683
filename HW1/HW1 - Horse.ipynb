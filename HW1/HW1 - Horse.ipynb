{
 "cells": [
  {
   "cell_type": "code",
   "execution_count": 1,
   "metadata": {
    "collapsed": true
   },
   "outputs": [],
   "source": [
    "def heuristic(state_x, state_y, final_x, final_y):\n",
    "    return min(abs(state_x - final_x)/2,abs(state_y - final_y)/2)\n",
    "    if(abs(state_x - final_x) <= 2):\n",
    "        #print \"diff in x abs <= 2 \" \n",
    "        if(abs(state_y - final_y) <=2):\n",
    "            #print \"diff in y abs <= 2 \"\n",
    "            return 1;\n",
    "        else:\n",
    "            return 2;\n",
    "    else:\n",
    "        return 2;    "
   ]
  },
  {
   "cell_type": "code",
   "execution_count": 2,
   "metadata": {
    "collapsed": false
   },
   "outputs": [],
   "source": [
    "import datetime\n",
    "import random\n",
    "%matplotlib inline\n",
    "\n",
    "import matplotlib\n",
    "import numpy as np\n",
    "import matplotlib.pyplot as plt\n"
   ]
  },
  {
   "cell_type": "code",
   "execution_count": 3,
   "metadata": {
    "collapsed": false
   },
   "outputs": [],
   "source": [
    "from collections import defaultdict;\n",
    "class HorseNode:\n",
    "    def __init__(self, x, y, final_x, final_y, path_cost):\n",
    "        self.pos_x = x\n",
    "        self.pos_y = y\n",
    "        self.h_cost = heuristic(x, y, final_x, final_y)\n",
    "        self.g_cost = path_cost\n",
    "        self.f_cost = self.g_cost + self.h_cost\n",
    "\n",
    "def appendToFrontier(newNode, Frontier):\n",
    "    if(newNode.f_cost in Frontier):\n",
    "        Frontier[newNode.f_cost].append(newNode)\n",
    "    else:\n",
    "        Frontier[newNode.f_cost] = [newNode]\n",
    "\n",
    "def expandNode(Node, Frontier, final_x, final_y, VisitedHashSet):\n",
    "    if((Node.pos_x+1, Node.pos_y+2) not in VisitedHashSet):\n",
    "        h1 = HorseNode(Node.pos_x+1, Node.pos_y+2, final_x, final_y, Node.g_cost+1)\n",
    "        appendToFrontier(h1, Frontier)\n",
    "    if((Node.pos_x+2, Node.pos_y+1) not in VisitedHashSet):\n",
    "        h2 = HorseNode(Node.pos_x+2, Node.pos_y+1, final_x, final_y, Node.g_cost+1)\n",
    "        appendToFrontier(h2, Frontier)\n",
    "    if((Node.pos_x+1, Node.pos_y-2) not in VisitedHashSet):\n",
    "        h3 = HorseNode(Node.pos_x+1, Node.pos_y-2, final_x, final_y, Node.g_cost+1)\n",
    "        appendToFrontier(h3, Frontier)\n",
    "    if((Node.pos_x+2, Node.pos_y-1) not in VisitedHashSet):\n",
    "        h4 = HorseNode(Node.pos_x+2, Node.pos_y-1, final_x, final_y, Node.g_cost+1)\n",
    "        appendToFrontier(h4, Frontier)\n",
    "    if((Node.pos_x-1, Node.pos_y+2) not in VisitedHashSet):\n",
    "        h5 = HorseNode(Node.pos_x-1, Node.pos_y+2, final_x, final_y, Node.g_cost+1)\n",
    "        appendToFrontier(h5, Frontier)\n",
    "    if((Node.pos_x-2, Node.pos_y+1) not in VisitedHashSet):\n",
    "        h6 = HorseNode(Node.pos_x-2, Node.pos_y+1, final_x, final_y, Node.g_cost+1)\n",
    "        appendToFrontier(h6, Frontier)\n",
    "    if((Node.pos_x-1, Node.pos_y-2) not in VisitedHashSet):\n",
    "        h7 = HorseNode(Node.pos_x-1, Node.pos_y-2, final_x, final_y, Node.g_cost+1)\n",
    "        appendToFrontier(h7, Frontier)\n",
    "    if((Node.pos_x-2, Node.pos_y-1) not in VisitedHashSet):\n",
    "        h8 = HorseNode(Node.pos_x-2, Node.pos_y-1, final_x, final_y, Node.g_cost+1)\n",
    "        appendToFrontier(h8, Frontier)\n",
    "    \n",
    "def popMinNode(Frontier):\n",
    "    m = min(i for i in Frontier.keys() if len(Frontier[i]) > 0)\n",
    "    minNode = Frontier[m].pop(0)\n",
    "    return minNode;\n",
    "    \n",
    "def findBestNode(Frontier, VisitedHashSet):\n",
    "    bestNode = popMinNode(Frontier)\n",
    "    tries = 0\n",
    "    while(((bestNode.pos_x,bestNode.pos_y) in VisitedHashSet)):\n",
    "#         tries+=1\n",
    "        bestNode = popMinNode(Frontier)\n",
    "#         if(tries==5):\n",
    "#             print \"ERROR Unable to find best Node\"\n",
    "#             break;\n",
    "    #print \"minimum F Cost is :: \" + str(bestNode.f_cost)\n",
    "    return bestNode\n",
    "\n",
    "def checkIfFCostIsGreaterThanBestFinalNode(bestFinalNode, node):\n",
    "    if(bestFinalNode.f_cost <= node.f_cost):\n",
    "        return False\n",
    "    return True\n",
    "    \n",
    "\n",
    "def checkNoOtherBetterNodeToExpand(Frontier, finalNode, VisitedHashSet):\n",
    "    bestNodeToExpand = findBestNode(Frontier, VisitedHashSet)\n",
    "    return checkIfFCostIsGreaterThanBestFinalNode(finalNode, bestNodeToExpand)\n",
    "\n",
    "def goalTest(pos_x, pos_y, final_x, final_y):\n",
    "    if(pos_x == final_x and pos_y == final_y):\n",
    "        return True\n",
    "    return False\n",
    "\n",
    "def solveAstar(start_x, start_y, final_x, final_y):\n",
    "    sNode = HorseNode(start_x, start_y, final_x, final_y, 0)\n",
    "    HashSet = {(start_x,start_y): 1}\n",
    "    Frontier = defaultdict(list)\n",
    "    Frontier[sNode.f_cost] = [sNode]\n",
    "    isCompleted = False\n",
    "    VisitedHashSet = {}\n",
    "    bestFinalNode = None\n",
    "    FoundCostToFinal = False;\n",
    "    noOfNodesExpanded = 0\n",
    "    while(len(Frontier)!=0 or isCompleted):\n",
    "        bestNode = findBestNode(Frontier, VisitedHashSet)\n",
    "        isNodeGoalState = goalTest(bestNode.pos_x, bestNode.pos_y, final_x, final_y)\n",
    "        if(FoundCostToFinal):\n",
    "            if(not checkIfFCostIsGreaterThanBestFinalNode(bestFinalNode, bestNode)):\n",
    "                break\n",
    "        if(isNodeGoalState):\n",
    "            if(not FoundCostToFinal):\n",
    "                bestFinalNode = bestNode\n",
    "                FoundCostToFinal = True\n",
    "            else:\n",
    "                if(bestFinalNode.g_cost > bestNode.g_cost):\n",
    "                    bestFinalNode=bestNode\n",
    "        if(isNodeGoalState and checkNoOtherBetterNodeToExpand(Frontier, bestNode, VisitedHashSet)):\n",
    "            isCompleted = True\n",
    "            break\n",
    "        VisitedHashSet[(bestNode.pos_x, bestNode.pos_y)] = 1\n",
    "        noOfNodesExpanded += 1\n",
    "        # print \"Expanding Node with co-ordinates (%s,%s) \" %(bestNode.pos_x, bestNode.pos_y)\n",
    "        expandNode(bestNode, Frontier, final_x, final_y, VisitedHashSet)\n",
    "    return bestFinalNode, noOfNodesExpanded"
   ]
  },
  {
   "cell_type": "code",
   "execution_count": 8,
   "metadata": {
    "collapsed": false
   },
   "outputs": [
    {
     "name": "stdout",
     "output_type": "stream",
     "text": [
      "Minimum Number of Moves are 4\n"
     ]
    }
   ],
   "source": [
    "minNode, noOfNodesExpanded = solveAstar(-1, -1, 3, 3)\n",
    "print \"Minimum Number of Moves are %d\" %(minNode.g_cost)"
   ]
  },
  {
   "cell_type": "code",
   "execution_count": 11,
   "metadata": {
    "collapsed": false
   },
   "outputs": [
    {
     "data": {
      "text/plain": [
       "<matplotlib.figure.Figure at 0x105c1aad0>"
      ]
     },
     "metadata": {},
     "output_type": "display_data"
    },
    {
     "name": "stdout",
     "output_type": "stream",
     "text": [
      "18 22 53 66\n",
      "89 30 82 84\n",
      "98 89 38 61\n",
      "39 70 14 70\n",
      "61 73 11 82\n",
      "59 35 42 64\n",
      "46 99 34 52\n",
      "84 30 10 70\n",
      "81 29 26 12\n",
      "29 60 51 50\n"
     ]
    }
   ],
   "source": [
    "# make up some data\n",
    "x = [datetime.datetime.now() + datetime.timedelta(hours=i) for i in range(12)]\n",
    "y = [i+random.gauss(0,1) for i,_ in enumerate(x)]\n",
    "import timeit\n",
    "\n",
    "# code you want to evaluate\n",
    "\n",
    "# beautify the x-labels\n",
    "plt.gcf().autofmt_xdate()\n",
    "\n",
    "plt.show()\n",
    "xMinMoves = []\n",
    "y = []\n",
    "xNodesExpanded = []\n",
    "def generateRandomStartFinalPositions(startRange,endRange):\n",
    "    start_x = random.randint(startRange, endRange)\n",
    "    start_y = random.randint(startRange, endRange)\n",
    "    final_x = random.randint(startRange, endRange)\n",
    "    final_y = random.randint(startRange, endRange)\n",
    "    if(start_x == final_x and start_y == final_y):\n",
    "        return generateRandomStartFinalPositions(startRange,endRange)\n",
    "    else:\n",
    "        return start_x, start_y, final_x, final_y\n",
    "\n",
    "for i in range(0,10):\n",
    "    startRange = 1\n",
    "    endRange = 100\n",
    "    start_x, start_y, final_x, final_y = generateRandomStartFinalPositions(startRange,endRange)\n",
    "    start_time = timeit.default_timer()\n",
    "    #print \"&&&&&&&&&&&&&&&\"\n",
    "    print start_x, start_y, final_x, final_y\n",
    "    #print \"&&&&&&&&&&&&&&&\"\n",
    "    minNode, noOfNodesExpanded = solveAstar(start_x, start_y, final_x, final_y)\n",
    "    elapsed = timeit.default_timer() - start_time\n",
    "    xMinMoves.append(minNode.g_cost)\n",
    "    xNodesExpanded.append(noOfNodesExpanded)\n",
    "    y.append(elapsed)\n",
    "\n",
    "\n",
    "\n"
   ]
  },
  {
   "cell_type": "code",
   "execution_count": 12,
   "metadata": {
    "collapsed": false
   },
   "outputs": [
    {
     "data": {
      "text/plain": [
       "<matplotlib.collections.PathCollection at 0x105d06ad0>"
      ]
     },
     "execution_count": 12,
     "metadata": {},
     "output_type": "execute_result"
    },
    {
     "data": {
      "image/png": "[encoded data removed]",
      "text/plain": [
       "<matplotlib.figure.Figure at 0x105e88450>"
      ]
     },
     "metadata": {},
     "output_type": "display_data"
    }
   ],
   "source": [
    "# plot\n",
    "plt.xlabel('min Number of Moves to solution')\n",
    "plt.ylabel('Time in Seconds')\n",
    "plt.scatter(xMinMoves,y)"
   ]
  },
  {
   "cell_type": "code",
   "execution_count": 13,
   "metadata": {
    "collapsed": false
   },
   "outputs": [
    {
     "data": {
      "text/plain": [
       "<matplotlib.collections.PathCollection at 0x106174710>"
      ]
     },
     "execution_count": 13,
     "metadata": {},
     "output_type": "execute_result"
    },
    {
     "data": {
      "image/png": "[encoded data removed]",
      "text/plain": [
       "<matplotlib.figure.Figure at 0x105e0a9d0>"
      ]
     },
     "metadata": {},
     "output_type": "display_data"
    }
   ],
   "source": [
    "plt.xlabel('Number of Nodes Expanded')\n",
    "plt.ylabel('Time in Seconds')\n",
    "plt.scatter(xNodesExpanded,y)"
   ]
  }
 ],
 "metadata": {
  "anaconda-cloud": {},
  "kernelspec": {
   "display_name": "Python [Root]",
   "language": "python",
   "name": "Python [Root]"
  },
  "language_info": {
   "codemirror_mode": {
    "name": "ipython",
    "version": 2
   },
   "file_extension": ".py",
   "mimetype": "text/x-python",
   "name": "python",
   "nbconvert_exporter": "python",
   "pygments_lexer": "ipython2",
   "version": "2.7.12"
  }
 },
 "nbformat": 4,
 "nbformat_minor": 0
}
