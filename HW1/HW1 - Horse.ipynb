{
 "cells": [
  {
   "cell_type": "code",
   "execution_count": 1,
   "metadata": {
    "collapsed": true
   },
   "outputs": [],
   "source": [
    "import math\n",
    "def heuristic(state_x, state_y, final_x, final_y):\n",
    "    return min(math.ceil(abs(state_x - final_x)/2.0),math.ceil(abs(state_y - final_y)/2.0))\n",
    "\n",
    "def heuristic_2(state_x, state_y, final_x, final_y):\n",
    "    return min((abs(state_x - final_x)/2.0),(abs(state_y - final_y)/2.0))\n",
    "\n",
    "def heuristic_3(state_x, state_y, final_x, final_y):\n",
    "    if(abs(state_x - final_x) <= 2):\n",
    "        #print \"diff in x abs <= 2 \" \n",
    "        if(abs(state_y - final_y) <=2):\n",
    "            #print \"diff in y abs <= 2 \"\n",
    "            return 1;\n",
    "        else:\n",
    "            return 2;\n",
    "    else:\n",
    "        return 2;    "
   ]
  },
  {
   "cell_type": "code",
   "execution_count": 2,
   "metadata": {
    "collapsed": false
   },
   "outputs": [],
   "source": [
    "import datetime\n",
    "import random\n",
    "%matplotlib inline\n",
    "\n",
    "import matplotlib\n",
    "import numpy as np\n",
    "import matplotlib.pyplot as plt\n"
   ]
  },
  {
   "cell_type": "code",
   "execution_count": 3,
   "metadata": {
    "collapsed": false
   },
   "outputs": [],
   "source": [
    "from collections import defaultdict;\n",
    "class HorseNode:\n",
    "    def __init__(self, x, y, final_x, final_y, path_cost):\n",
    "        self.pos_x = x\n",
    "        self.pos_y = y\n",
    "        self.h_cost = heuristic(x, y, final_x, final_y)\n",
    "        self.g_cost = path_cost\n",
    "        self.f_cost = self.g_cost + self.h_cost\n",
    "\n",
    "def appendToFrontier(newNode, Frontier):\n",
    "    if(newNode.f_cost in Frontier):\n",
    "        Frontier[newNode.f_cost].append(newNode)\n",
    "    else:\n",
    "        Frontier[newNode.f_cost] = [newNode]\n",
    "\n",
    "def expandNode(Node, Frontier, final_x, final_y, VisitedHashSet):\n",
    "    nodeGen = 0\n",
    "    if((Node.pos_x+1, Node.pos_y+2) not in VisitedHashSet):\n",
    "        h1 = HorseNode(Node.pos_x+1, Node.pos_y+2, final_x, final_y, Node.g_cost+1)\n",
    "        appendToFrontier(h1, Frontier)\n",
    "        nodeGen+=1\n",
    "    if((Node.pos_x+2, Node.pos_y+1) not in VisitedHashSet):\n",
    "        h2 = HorseNode(Node.pos_x+2, Node.pos_y+1, final_x, final_y, Node.g_cost+1)\n",
    "        appendToFrontier(h2, Frontier)\n",
    "        nodeGen+=1\n",
    "    if((Node.pos_x+1, Node.pos_y-2) not in VisitedHashSet):\n",
    "        h3 = HorseNode(Node.pos_x+1, Node.pos_y-2, final_x, final_y, Node.g_cost+1)\n",
    "        appendToFrontier(h3, Frontier)\n",
    "        nodeGen+=1\n",
    "    if((Node.pos_x+2, Node.pos_y-1) not in VisitedHashSet):\n",
    "        h4 = HorseNode(Node.pos_x+2, Node.pos_y-1, final_x, final_y, Node.g_cost+1)\n",
    "        appendToFrontier(h4, Frontier)\n",
    "        nodeGen+=1\n",
    "    if((Node.pos_x-1, Node.pos_y+2) not in VisitedHashSet):\n",
    "        h5 = HorseNode(Node.pos_x-1, Node.pos_y+2, final_x, final_y, Node.g_cost+1)\n",
    "        appendToFrontier(h5, Frontier)\n",
    "        nodeGen+=1\n",
    "    if((Node.pos_x-2, Node.pos_y+1) not in VisitedHashSet):\n",
    "        h6 = HorseNode(Node.pos_x-2, Node.pos_y+1, final_x, final_y, Node.g_cost+1)\n",
    "        appendToFrontier(h6, Frontier)\n",
    "        nodeGen+=1\n",
    "    if((Node.pos_x-1, Node.pos_y-2) not in VisitedHashSet):\n",
    "        h7 = HorseNode(Node.pos_x-1, Node.pos_y-2, final_x, final_y, Node.g_cost+1)\n",
    "        appendToFrontier(h7, Frontier)\n",
    "        nodeGen+=1\n",
    "    if((Node.pos_x-2, Node.pos_y-1) not in VisitedHashSet):\n",
    "        h8 = HorseNode(Node.pos_x-2, Node.pos_y-1, final_x, final_y, Node.g_cost+1)\n",
    "        appendToFrontier(h8, Frontier)\n",
    "        nodeGen+=1\n",
    "    return nodeGen\n",
    "    \n",
    "def popMinNode(Frontier):\n",
    "    m = min(i for i in Frontier.keys() if len(Frontier[i]) > 0)\n",
    "    minNode = Frontier[m].pop(0)\n",
    "    return minNode;\n",
    "    \n",
    "def findBestNode(Frontier, VisitedHashSet):\n",
    "    bestNode = popMinNode(Frontier)\n",
    "    tries = 0\n",
    "    while(((bestNode.pos_x,bestNode.pos_y) in VisitedHashSet)):\n",
    "#         tries+=1\n",
    "        bestNode = popMinNode(Frontier)\n",
    "#         if(tries==5):\n",
    "#             print \"ERROR Unable to find best Node\"\n",
    "#             break;\n",
    "    #print \"minimum F Cost is :: \" + str(bestNode.f_cost)\n",
    "    return bestNode\n",
    "\n",
    "def checkIfFCostIsGreaterThanBestFinalNode(bestFinalNode, node):\n",
    "    if(bestFinalNode.f_cost <= node.f_cost):\n",
    "        return False\n",
    "    return True\n",
    "    \n",
    "\n",
    "def checkNoOtherBetterNodeToExpand(Frontier, finalNode, VisitedHashSet):\n",
    "    bestNodeToExpand = findBestNode(Frontier, VisitedHashSet)\n",
    "    return checkIfFCostIsGreaterThanBestFinalNode(finalNode, bestNodeToExpand)\n",
    "\n",
    "def goalTest(pos_x, pos_y, final_x, final_y):\n",
    "    if(pos_x == final_x and pos_y == final_y):\n",
    "        return True\n",
    "    return False\n",
    "\n",
    "def solveAstar(start_x, start_y, final_x, final_y):\n",
    "    sNode = HorseNode(start_x, start_y, final_x, final_y, 0)\n",
    "    HashSet = {(start_x,start_y): 1}\n",
    "    Frontier = defaultdict(list)\n",
    "    Frontier[sNode.f_cost] = [sNode]\n",
    "    isCompleted = False\n",
    "    VisitedHashSet = {}\n",
    "    bestFinalNode = None\n",
    "    FoundCostToFinal = False;\n",
    "    noOfNodesExpanded = 0\n",
    "    noOfNodesGenerated = 0\n",
    "    while(len(Frontier)!=0 or isCompleted):\n",
    "        bestNode = findBestNode(Frontier, VisitedHashSet)\n",
    "        isNodeGoalState = goalTest(bestNode.pos_x, bestNode.pos_y, final_x, final_y)\n",
    "        if(FoundCostToFinal):\n",
    "            if(not checkIfFCostIsGreaterThanBestFinalNode(bestFinalNode, bestNode)):\n",
    "                break\n",
    "        if(isNodeGoalState):\n",
    "            if(not FoundCostToFinal):\n",
    "                bestFinalNode = bestNode\n",
    "                FoundCostToFinal = True\n",
    "            else:\n",
    "                if(bestFinalNode.g_cost > bestNode.g_cost):\n",
    "                    bestFinalNode=bestNode\n",
    "        if(isNodeGoalState and checkNoOtherBetterNodeToExpand(Frontier, bestNode, VisitedHashSet)):\n",
    "            isCompleted = True\n",
    "            break\n",
    "        VisitedHashSet[(bestNode.pos_x, bestNode.pos_y)] = 1\n",
    "        noOfNodesExpanded += 1\n",
    "        # print \"Expanding Node with co-ordinates (%s,%s) \" %(bestNode.pos_x, bestNode.pos_y)\n",
    "        noOfNodesGenerated+=expandNode(bestNode, Frontier, final_x, final_y, VisitedHashSet)\n",
    "    return bestFinalNode, noOfNodesExpanded, noOfNodesGenerated"
   ]
  },
  {
   "cell_type": "code",
   "execution_count": 4,
   "metadata": {
    "collapsed": false
   },
   "outputs": [
    {
     "name": "stdout",
     "output_type": "stream",
     "text": [
      "Minimum Number of Moves are 4\n"
     ]
    }
   ],
   "source": [
    "minNode, noOfNodesExpanded, noOfNodesGenerated = solveAstar(-1, -1, 3, 3)\n",
    "print \"Minimum Number of Moves are %d\" %(minNode.g_cost)"
   ]
  },
  {
   "cell_type": "code",
   "execution_count": 5,
   "metadata": {
    "collapsed": false
   },
   "outputs": [
    {
     "data": {
      "text/plain": [
       "<matplotlib.figure.Figure at 0x105979150>"
      ]
     },
     "metadata": {},
     "output_type": "display_data"
    },
    {
     "name": "stdout",
     "output_type": "stream",
     "text": [
      "73 79 18 53\n",
      "42 81 85 77\n",
      "18 59 66 57\n",
      "13 32 62 94\n",
      "52 57 5 63\n",
      "73 22 75 74\n",
      "37 32 45 13\n",
      "40 69 18 53\n",
      "66 70 66 62\n",
      "71 60 57 22\n",
      "64 34 8 5\n",
      "55 58 86 34\n",
      "91 61 42 38\n",
      "37 1 63 72\n",
      "86 38 84 10\n",
      "11 81 40 80\n",
      "82 31 61 35\n",
      "87 53 100 51\n",
      "32 76 23 11\n",
      "13 31 5 31\n",
      "45 31 17 77\n",
      "11 30 6 65\n",
      "67 26 36 43\n",
      "81 88 59 59\n",
      "12 11 15 43\n",
      "39 52 45 51\n",
      "54 20 33 35\n",
      "51 24 78 2\n",
      "85 45 45 96\n",
      "13 6 9 11\n",
      "36 19 75 13\n",
      "65 82 30 24\n",
      "49 14 41 7\n",
      "99 77 4 54\n",
      "42 4 79 53\n",
      "26 98 20 53\n",
      "40 65 4 15\n",
      "55 62 44 100\n",
      "72 66 26 63\n",
      "49 83 95 4\n",
      "79 15 40 78\n",
      "40 16 10 53\n",
      "67 43 99 48\n",
      "27 45 18 33\n",
      "2 15 5 37\n",
      "93 94 60 64\n",
      "57 74 53 37\n",
      "15 6 64 3\n",
      "77 89 30 44\n",
      "8 11 17 8\n",
      "44 45 42 16\n",
      "34 37 56 77\n",
      "5 42 11 31\n",
      "86 95 93 40\n",
      "54 49 29 13\n",
      "72 53 5 69\n",
      "71 25 38 46\n",
      "6 84 14 74\n",
      "23 71 17 56\n",
      "62 96 63 26\n",
      "47 42 46 18\n",
      "46 16 43 71\n",
      "11 16 60 63\n",
      "29 32 46 37\n",
      "40 39 5 45\n",
      "70 79 14 60\n",
      "42 81 59 29\n",
      "5 70 19 16\n",
      "82 60 14 35\n",
      "34 13 90 95\n",
      "86 25 39 82\n",
      "12 82 86 14\n",
      "72 49 67 77\n",
      "6 42 96 21\n",
      "30 27 45 24\n",
      "2 51 70 84\n",
      "95 64 82 57\n",
      "74 35 9 65\n",
      "46 27 34 86\n",
      "41 12 19 36\n",
      "80 69 93 92\n",
      "71 10 28 60\n",
      "74 36 58 93\n",
      "53 41 59 76\n",
      "6 76 69 21\n",
      "17 80 8 20\n",
      "70 15 99 93\n",
      "8 54 65 56\n",
      "51 74 45 57\n",
      "31 85 53 99\n",
      "46 38 8 50\n",
      "63 91 33 45\n",
      "3 71 85 4\n",
      "20 98 78 81\n",
      "47 27 51 53\n",
      "11 80 3 48\n",
      "100 60 32 75\n",
      "50 59 48 51\n",
      "85 77 52 78\n",
      "34 32 50 3\n"
     ]
    }
   ],
   "source": [
    "import timeit\n",
    "\n",
    "plt.show()\n",
    "xMinMoves = []\n",
    "y = []\n",
    "xNodesExpanded = []\n",
    "xNodesGenerated = []\n",
    "def generateRandomStartFinalPositions(startRange,endRange):\n",
    "    start_x = random.randint(startRange, endRange)\n",
    "    start_y = random.randint(startRange, endRange)\n",
    "    final_x = random.randint(startRange, endRange)\n",
    "    final_y = random.randint(startRange, endRange)\n",
    "    if(start_x == final_x and start_y == final_y):\n",
    "        return generateRandomStartFinalPositions(startRange,endRange)\n",
    "    else:\n",
    "        return start_x, start_y, final_x, final_y\n",
    "\n",
    "for i in range(0,100):\n",
    "    startRange = 1\n",
    "    endRange = 100\n",
    "    start_x, start_y, final_x, final_y = generateRandomStartFinalPositions(startRange,endRange)\n",
    "    start_time = timeit.default_timer()\n",
    "    #print \"&&&&&&&&&&&&&&&\"\n",
    "    print start_x, start_y, final_x, final_y\n",
    "    #print \"&&&&&&&&&&&&&&&\"\n",
    "    minNode, noOfNodesExpanded, noOfNodesGenerated = solveAstar(start_x, start_y, final_x, final_y)\n",
    "    elapsed = timeit.default_timer() - start_time\n",
    "    xMinMoves.append(minNode.g_cost)\n",
    "    xNodesExpanded.append(noOfNodesExpanded)\n",
    "    xNodesGenerated.append(noOfNodesGenerated)\n",
    "    y.append(elapsed)\n",
    "\n",
    "\n",
    "\n"
   ]
  },
  {
   "cell_type": "code",
   "execution_count": 6,
   "metadata": {
    "collapsed": false
   },
   "outputs": [
    {
     "data": {
      "text/plain": [
       "<matplotlib.collections.PathCollection at 0x105989990>"
      ]
     },
     "execution_count": 6,
     "metadata": {},
     "output_type": "execute_result"
    },
    {
     "data": {
      "image/png": "[encoded data removed]",
      "text/plain": [
       "<matplotlib.figure.Figure at 0x103edd1d0>"
      ]
     },
     "metadata": {},
     "output_type": "display_data"
    }
   ],
   "source": [
    "# plot\n",
    "plt.xlabel('min Number of Moves to solution')\n",
    "plt.ylabel('Time in Seconds')\n",
    "plt.scatter(xMinMoves,y)"
   ]
  },
  {
   "cell_type": "code",
   "execution_count": 7,
   "metadata": {
    "collapsed": false
   },
   "outputs": [
    {
     "data": {
      "text/plain": [
       "<matplotlib.collections.PathCollection at 0x105c70c50>"
      ]
     },
     "execution_count": 7,
     "metadata": {},
     "output_type": "execute_result"
    },
    {
     "data": {
      "image/png": "[encoded data removed]",
      "text/plain": [
       "<matplotlib.figure.Figure at 0x105991210>"
      ]
     },
     "metadata": {},
     "output_type": "display_data"
    }
   ],
   "source": [
    "plt.xlabel('Number of Nodes Expanded')\n",
    "plt.ylabel('Time in Seconds')\n",
    "plt.scatter(xNodesExpanded,y)"
   ]
  },
  {
   "cell_type": "code",
   "execution_count": 8,
   "metadata": {
    "collapsed": false
   },
   "outputs": [
    {
     "data": {
      "text/plain": [
       "<matplotlib.collections.PathCollection at 0x105b085d0>"
      ]
     },
     "execution_count": 8,
     "metadata": {},
     "output_type": "execute_result"
    },
    {
     "data": {
      "image/png": "[encoded data removed]",
      "text/plain": [
       "<matplotlib.figure.Figure at 0x105b6b850>"
      ]
     },
     "metadata": {},
     "output_type": "display_data"
    }
   ],
   "source": [
    "plt.xlabel('Number of Nodes Generated')\n",
    "plt.ylabel('Time in Seconds')\n",
    "plt.scatter(xNodesGenerated,y)"
   ]
  },
  {
   "cell_type": "code",
   "execution_count": 9,
   "metadata": {
    "collapsed": false
   },
   "outputs": [
    {
     "data": {
      "text/plain": [
       "<matplotlib.collections.PathCollection at 0x105d62b10>"
      ]
     },
     "execution_count": 9,
     "metadata": {},
     "output_type": "execute_result"
    },
    {
     "data": {
      "image/png": "[encoded data removed]",
      "text/plain": [
       "<matplotlib.figure.Figure at 0x105ccf050>"
      ]
     },
     "metadata": {},
     "output_type": "display_data"
    }
   ],
   "source": [
    "plt.xlabel('min Number of Moves to solution')\n",
    "plt.ylabel('Number of Nodes Expanded')\n",
    "plt.scatter(xMinMoves,xNodesExpanded)"
   ]
  },
  {
   "cell_type": "code",
   "execution_count": 10,
   "metadata": {
    "collapsed": false
   },
   "outputs": [
    {
     "data": {
      "text/plain": [
       "<matplotlib.collections.PathCollection at 0x106177350>"
      ]
     },
     "execution_count": 10,
     "metadata": {},
     "output_type": "execute_result"
    },
    {
     "data": {
      "image/png": "[encoded data removed]",
      "text/plain": [
       "<matplotlib.figure.Figure at 0x105d7b4d0>"
      ]
     },
     "metadata": {},
     "output_type": "display_data"
    }
   ],
   "source": [
    "plt.xlabel('min Number of Moves to solution')\n",
    "plt.ylabel('Number of Nodes Generated')\n",
    "plt.scatter(xMinMoves,xNodesGenerated)"
   ]
  }
 ],
 "metadata": {
  "anaconda-cloud": {},
  "kernelspec": {
   "display_name": "Python [Root]",
   "language": "python",
   "name": "Python [Root]"
  },
  "language_info": {
   "codemirror_mode": {
    "name": "ipython",
    "version": 2
   },
   "file_extension": ".py",
   "mimetype": "text/x-python",
   "name": "python",
   "nbconvert_exporter": "python",
   "pygments_lexer": "ipython2",
   "version": "2.7.12"
  }
 },
 "nbformat": 4,
 "nbformat_minor": 0
}
